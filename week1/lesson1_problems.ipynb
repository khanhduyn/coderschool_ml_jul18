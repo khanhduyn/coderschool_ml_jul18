{
 "cells": [
  {
   "cell_type": "markdown",
   "metadata": {},
   "source": [
    "# Lesson 1 - Problem Set\n",
    "\n",
    "Please solve the questions in this notebook and submit the completed notebook. The timestamp of submission will be considered the timestamp of completion.\n",
    "\n",
    "1. Create a 3x3x3 array with random values. $_{5\\text{pts}}$\n",
    "\n",
    "1. Create a 4x4 matrix with row values ranging from 0 to 3. $_{5\\text{pts}}$\n",
    "\n",
    "1. Create a random numpy array with 25 elements in sorted order (from least to greatest). $_{5\\text{pts}}$\n",
    "\n",
    "1. Write a function which takes a numpy array `arr` and a scalar `n` and returns the closest value in the array to the provided scalar `n`. $_{10\\text{pts}}$.\n",
    "\n",
    "    **Hint**: Consider the [argmin](https://docs.scipy.org/doc/numpy/reference/generated/numpy.argmin.html) function provided by numpy\n",
    "    \n",
    "1. In the first lesson, we saw the use of the [matplotlib](https://matplotlib.org/) library to generate graphical representations of our data. Using this library, we are going to plot a normal distribution. $_{10\\text{pts}}$.\n",
    "    1. Using the terms mean, variance, and standard deviation, describe a uniform distribution? $_{2\\text{pts}}$.\n",
    "    1. Using the terms mean, variance, and standard deviation, describe a normal distribution? $_{2\\text{pts}}$.\n",
    "    1. Using the [normal](https://docs.scipy.org/doc/numpy-1.14.0/reference/generated/numpy.random.normal.html) function, generate a numpy array of normally distributed numbers. $_{2\\text{pts}}$. (*Hint: Generate the distribution by leveraging your knowledge of mean, variance, and standard deviation.*)\n",
    "    1. What is a histogram? $_{2\\text{pts}}$.\n",
    "    1. Plot a histogram of the normally distributed data that you generated above. $_{2\\text{pts}}$.\n",
    "\n",
    "1. Using a histogram, plot normally sampled data in order to answer the following questions. $_{5\\text{pts}}$.\n",
    "    1. What happens when you change the mean? $_{2.5\\text{pts}}$.\n",
    "    1. What happens when you change the standard deviation? $_{2.5\\text{pts}}$."
   ]
  },
  {
   "cell_type": "code",
   "execution_count": 1,
   "metadata": {},
   "outputs": [],
   "source": [
    "import numpy as np"
   ]
  },
  {
   "cell_type": "markdown",
   "metadata": {},
   "source": [
    "# 1. Create a 3x3x3 array with random values.  5pts"
   ]
  },
  {
   "cell_type": "code",
   "execution_count": 14,
   "metadata": {},
   "outputs": [
    {
     "data": {
      "text/plain": [
       "array([[[81, 49, 97],\n",
       "        [31, 16, 23],\n",
       "        [43, 89, 71]],\n",
       "\n",
       "       [[89, 36, 96],\n",
       "        [ 3, 36, 36],\n",
       "        [30, 19, 14]],\n",
       "\n",
       "       [[99, 36, 96],\n",
       "        [21, 92, 85],\n",
       "        [65, 11, 69]]])"
      ]
     },
     "execution_count": 14,
     "metadata": {},
     "output_type": "execute_result"
    }
   ],
   "source": [
    "np.random.randint(0, 100, size=(3, 3, 3))"
   ]
  },
  {
   "cell_type": "markdown",
   "metadata": {},
   "source": [
    "# 2. Create a 4x4 matrix with row values ranging from 0 to 3"
   ]
  },
  {
   "cell_type": "code",
   "execution_count": 19,
   "metadata": {},
   "outputs": [
    {
     "data": {
      "text/plain": [
       "array([[0., 1., 2., 3.],\n",
       "       [0., 1., 2., 3.],\n",
       "       [0., 1., 2., 3.],\n",
       "       [0., 1., 2., 3.]])"
      ]
     },
     "execution_count": 19,
     "metadata": {},
     "output_type": "execute_result"
    }
   ],
   "source": [
    "seed = np.arange(0, 4)\n",
    "arr  = np.ones(shape=(4, 4))\n",
    "arr*seed"
   ]
  },
  {
   "cell_type": "markdown",
   "metadata": {},
   "source": [
    "# 3.Create a random numpy array with 25 elements in sorted order (from least to greatest)."
   ]
  },
  {
   "cell_type": "code",
   "execution_count": 43,
   "metadata": {},
   "outputs": [
    {
     "data": {
      "text/plain": [
       "array([ 17,  80,  97, 102, 113, 115, 190, 197, 242, 296, 316, 401, 458,\n",
       "       480, 486, 550, 568, 652, 702, 798, 813, 822, 920, 942, 971])"
      ]
     },
     "execution_count": 43,
     "metadata": {},
     "output_type": "execute_result"
    }
   ],
   "source": [
    "arr = np.random.randint(1000, size=(25))\n",
    "arr.sort()\n",
    "arr"
   ]
  },
  {
   "cell_type": "markdown",
   "metadata": {},
   "source": [
    "# 4. Write a function which takes a numpy array arr and a scalar n and returns the closest value in the array to the provided scalar n."
   ]
  },
  {
   "cell_type": "code",
   "execution_count": 59,
   "metadata": {},
   "outputs": [
    {
     "data": {
      "text/plain": [
       "67"
      ]
     },
     "execution_count": 59,
     "metadata": {},
     "output_type": "execute_result"
    }
   ],
   "source": [
    "def closet_value(arr, n):\n",
    "    C = arr - n\n",
    "    idx = abs(C).argmin()\n",
    "    return arr[idx]\n",
    "closet_value(np.random.randint(0, 100, size=10), np.random.randint(0, 100))"
   ]
  },
  {
   "cell_type": "markdown",
   "metadata": {},
   "source": [
    "# 5. In the first lesson, we saw the use of the [matplotlib](https://matplotlib.org/) library to generate graphical representations of our data. Using this library, we are going to plot a normal distribution. $_{10\\text{pts}}$.\n",
    "    1. Using the terms mean, variance, and standard deviation, describe a uniform distribution? $_{2\\text{pts}}$.\n",
    "    1. Using the terms mean, variance, and standard deviation, describe a normal distribution? $_{2\\text{pts}}$.\n",
    "    1. Using the [normal](https://docs.scipy.org/doc/numpy-1.14.0/reference/generated/numpy.random.normal.html) function, generate a numpy array of normally distributed numbers. $_{2\\text{pts}}$. (*Hint: Generate the distribution by leveraging your knowledge of mean, variance, and standard deviation.*)\n",
    "    1. What is a histogram? $_{2\\text{pts}}$.\n",
    "    1. Plot a histogram of the normally distributed data that you generated above. $_{2\\text{pts}}$."
   ]
  },
  {
   "cell_type": "code",
   "execution_count": 64,
   "metadata": {},
   "outputs": [
    {
     "name": "stdout",
     "output_type": "stream",
     "text": [
      "uniform median: 0.5929700737278402, mean: 0.5506945404459631, var: 0.08499969416471595, std: 0.2915470702386082\n",
      "normal median: 0.04924645353523467, mean: 0.044177912561332654, var: 1.0097961941197762, std: 1.0048861597811845\n"
     ]
    }
   ],
   "source": [
    "uni_arr = np.random.uniform(size=100)\n",
    "uni_mean = np.mean(uni_arr)\n",
    "uni_var  = np.var(uni_arr)\n",
    "uni_std  = np.std(uni_arr)\n",
    "uni_median = np.median(uni_arr)\n",
    "print('uniform median: {}, mean: {}, var: {}, std: {}'.format(uni_median, uni_mean, uni_var, uni_std))\n",
    "\n",
    "norm_arr = np.random.normal(size=100)\n",
    "norm_mean = np.mean(norm_arr)\n",
    "norm_var  = np.var(norm_arr)\n",
    "norm_std  = np.std(norm_arr)\n",
    "norm_median = np.median(norm_arr)\n",
    "print('normal median: {}, mean: {}, var: {}, std: {}'.format(norm_median, norm_mean, norm_var, norm_std))"
   ]
  },
  {
   "cell_type": "markdown",
   "metadata": {},
   "source": [
    "1. uniform distribution: mean is high,B variance and std is low\n",
    "2. normal distributionn: mean is low, variance and std is low"
   ]
  },
  {
   "cell_type": "code",
   "execution_count": 2,
   "metadata": {},
   "outputs": [],
   "source": [
    "import matplotlib.pyplot as plt\n",
    "%matplotlib inline"
   ]
  },
  {
   "cell_type": "code",
   "execution_count": 96,
   "metadata": {},
   "outputs": [
    {
     "data": {
      "text/plain": [
       "(array([2.00000e+00, 1.00000e+00, 2.00000e+00, 3.00000e+00, 4.00000e+00,\n",
       "        6.00000e+00, 1.70000e+01, 1.40000e+01, 3.50000e+01, 6.00000e+01,\n",
       "        7.40000e+01, 1.37000e+02, 2.05000e+02, 3.21000e+02, 4.62000e+02,\n",
       "        6.72000e+02, 9.91000e+02, 1.46800e+03, 2.07600e+03, 3.11800e+03,\n",
       "        4.21700e+03, 5.91900e+03, 8.21900e+03, 1.08220e+04, 1.48270e+04,\n",
       "        1.95010e+04, 2.52330e+04, 3.25440e+04, 4.19270e+04, 5.27980e+04,\n",
       "        6.58050e+04, 8.07730e+04, 9.81520e+04, 1.17019e+05, 1.39846e+05,\n",
       "        1.63675e+05, 1.89551e+05, 2.16876e+05, 2.46172e+05, 2.74113e+05,\n",
       "        3.03716e+05, 3.31035e+05, 3.58011e+05, 3.80534e+05, 4.00324e+05,\n",
       "        4.15090e+05, 4.28139e+05, 4.34958e+05, 4.36504e+05, 4.32625e+05,\n",
       "        4.24699e+05, 4.10688e+05, 3.92683e+05, 3.70759e+05, 3.47001e+05,\n",
       "        3.20724e+05, 2.92246e+05, 2.62634e+05, 2.33244e+05, 2.06532e+05,\n",
       "        1.79179e+05, 1.53684e+05, 1.30130e+05, 1.09135e+05, 9.06530e+04,\n",
       "        7.38440e+04, 6.02870e+04, 4.81830e+04, 3.82330e+04, 2.97170e+04,\n",
       "        2.28780e+04, 1.74420e+04, 1.30000e+04, 9.47300e+03, 7.12500e+03,\n",
       "        5.06900e+03, 3.83500e+03, 2.62300e+03, 1.88900e+03, 1.20800e+03,\n",
       "        8.92000e+02, 5.94000e+02, 4.06000e+02, 2.44000e+02, 1.59000e+02,\n",
       "        1.31000e+02, 7.60000e+01, 4.10000e+01, 2.10000e+01, 2.30000e+01,\n",
       "        1.00000e+01, 5.00000e+00, 5.00000e+00, 2.00000e+00, 0.00000e+00,\n",
       "        0.00000e+00, 0.00000e+00, 0.00000e+00, 0.00000e+00, 1.00000e+00]),\n",
       " array([-2.2895941 , -2.18007549, -2.07055689, -1.96103829, -1.85151968,\n",
       "        -1.74200108, -1.63248248, -1.52296387, -1.41344527, -1.30392667,\n",
       "        -1.19440806, -1.08488946, -0.97537086, -0.86585225, -0.75633365,\n",
       "        -0.64681505, -0.53729645, -0.42777784, -0.31825924, -0.20874064,\n",
       "        -0.09922203,  0.01029657,  0.11981517,  0.22933378,  0.33885238,\n",
       "         0.44837098,  0.55788959,  0.66740819,  0.77692679,  0.8864454 ,\n",
       "         0.995964  ,  1.1054826 ,  1.21500121,  1.32451981,  1.43403841,\n",
       "         1.54355702,  1.65307562,  1.76259422,  1.87211283,  1.98163143,\n",
       "         2.09115003,  2.20066864,  2.31018724,  2.41970584,  2.52922445,\n",
       "         2.63874305,  2.74826165,  2.85778025,  2.96729886,  3.07681746,\n",
       "         3.18633606,  3.29585467,  3.40537327,  3.51489187,  3.62441048,\n",
       "         3.73392908,  3.84344768,  3.95296629,  4.06248489,  4.17200349,\n",
       "         4.2815221 ,  4.3910407 ,  4.5005593 ,  4.61007791,  4.71959651,\n",
       "         4.82911511,  4.93863372,  5.04815232,  5.15767092,  5.26718953,\n",
       "         5.37670813,  5.48622673,  5.59574534,  5.70526394,  5.81478254,\n",
       "         5.92430115,  6.03381975,  6.14333835,  6.25285695,  6.36237556,\n",
       "         6.47189416,  6.58141276,  6.69093137,  6.80044997,  6.90996857,\n",
       "         7.01948718,  7.12900578,  7.23852438,  7.34804299,  7.45756159,\n",
       "         7.56708019,  7.6765988 ,  7.7861174 ,  7.895636  ,  8.00515461,\n",
       "         8.11467321,  8.22419181,  8.33371042,  8.44322902,  8.55274762,\n",
       "         8.66226623]),\n",
       " <a list of 100 Patch objects>)"
      ]
     },
     "execution_count": 96,
     "metadata": {},
     "output_type": "execute_result"
    },
    {
     "data": {
      "image/png": "[encoded data removed]",
      "text/plain": [
       "<Figure size 432x288 with 1 Axes>"
      ]
     },
     "metadata": {},
     "output_type": "display_data"
    }
   ],
   "source": [
    "norm_distributon = np.random.normal(loc=3, scale=1, size=10000000)\n",
    "plt.hist(norm_distributon, bins=100)"
   ]
  },
  {
   "cell_type": "markdown",
   "metadata": {},
   "source": [
    "A histogram is an accurate representation of the distribution of numerical data."
   ]
  },
  {
   "cell_type": "markdown",
   "metadata": {},
   "source": [
    "# 6. Using a histogram, plot normally sampled data in order to answer the following questions.  "
   ]
  },
  {
   "cell_type": "markdown",
   "metadata": {},
   "source": [
    "What happens when you change the mean?"
   ]
  },
  {
   "cell_type": "code",
   "execution_count": 103,
   "metadata": {},
   "outputs": [
    {
     "data": {
      "text/plain": [
       "(array([4.00000e+00, 4.00000e+00, 1.70000e+01, 3.00000e+01, 1.02000e+02,\n",
       "        2.52000e+02, 5.34000e+02, 1.18800e+03, 2.47200e+03, 4.90900e+03,\n",
       "        9.47700e+03, 1.73770e+04, 3.03630e+04, 5.14870e+04, 8.20210e+04,\n",
       "        1.25732e+05, 1.84824e+05, 2.61436e+05, 3.50463e+05, 4.51108e+05,\n",
       "        5.56720e+05, 6.58726e+05, 7.44039e+05, 8.04083e+05, 8.33790e+05,\n",
       "        8.27343e+05, 7.84259e+05, 7.11404e+05, 6.16207e+05, 5.13080e+05,\n",
       "        4.09299e+05, 3.12331e+05, 2.26953e+05, 1.59133e+05, 1.06406e+05,\n",
       "        6.80510e+04, 4.16910e+04, 2.42710e+04, 1.37750e+04, 7.41700e+03,\n",
       "        3.75500e+03, 1.92700e+03, 8.62000e+02, 3.85000e+02, 1.78000e+02,\n",
       "        6.80000e+01, 3.10000e+01, 1.40000e+01, 1.00000e+00, 1.00000e+00]),\n",
       " array([ 9994.80037932,  9995.01005912,  9995.21973892,  9995.42941871,\n",
       "         9995.63909851,  9995.84877831,  9996.0584581 ,  9996.2681379 ,\n",
       "         9996.47781769,  9996.68749749,  9996.89717729,  9997.10685708,\n",
       "         9997.31653688,  9997.52621668,  9997.73589647,  9997.94557627,\n",
       "         9998.15525607,  9998.36493586,  9998.57461566,  9998.78429545,\n",
       "         9998.99397525,  9999.20365505,  9999.41333484,  9999.62301464,\n",
       "         9999.83269444, 10000.04237423, 10000.25205403, 10000.46173382,\n",
       "        10000.67141362, 10000.88109342, 10001.09077321, 10001.30045301,\n",
       "        10001.51013281, 10001.7198126 , 10001.9294924 , 10002.1391722 ,\n",
       "        10002.34885199, 10002.55853179, 10002.76821158, 10002.97789138,\n",
       "        10003.18757118, 10003.39725097, 10003.60693077, 10003.81661057,\n",
       "        10004.02629036, 10004.23597016, 10004.44564996, 10004.65532975,\n",
       "        10004.86500955, 10005.07468934, 10005.28436914]),\n",
       " <a list of 50 Patch objects>)"
      ]
     },
     "execution_count": 103,
     "metadata": {},
     "output_type": "execute_result"
    },
    {
     "data": {
      "image/png": "[encoded data removed]",
      "text/plain": [
       "<Figure size 432x288 with 1 Axes>"
      ]
     },
     "metadata": {},
     "output_type": "display_data"
    }
   ],
   "source": [
    "%matplotlib inline\n",
    "mu = 10000\n",
    "sigma = 1\n",
    "plt.hist(np.random.normal(loc=mu, scale=sigma, size=10000000), bins=50)"
   ]
  },
  {
   "cell_type": "markdown",
   "metadata": {},
   "source": [
    "What happens when you change the standard deviation?"
   ]
  },
  {
   "cell_type": "code",
   "execution_count": 14,
   "metadata": {},
   "outputs": [
    {
     "data": {
      "image/png": "[encoded data removed]",
      "text/plain": [
       "<Figure size 432x288 with 1 Axes>"
      ]
     },
     "metadata": {},
     "output_type": "display_data"
    }
   ],
   "source": [
    "%matplotlib inline\n",
    "mu = 3\n",
    "sigma = 2\n",
    "plt.hist(np.random.normal(loc=3, scale=1, size=10000000), bins=50, alpha=0.5, label='normal')\n",
    "plt.hist(np.random.normal(loc=3, scale=10, size=10000000), bins=50, alpha=0.5, label='scale')\n",
    "plt.hist(np.random.normal(loc=10, scale=1, size=10000000), bins=50, alpha=0.5, label='loc')\n",
    "plt.legend(loc='upper right')\n",
    "plt.show()"
   ]
  }
 ],
 "metadata": {
  "kernelspec": {
   "display_name": "Python 3",
   "language": "python",
   "name": "python3"
  },
  "language_info": {
   "codemirror_mode": {
    "name": "ipython",
    "version": 3
   },
   "file_extension": ".py",
   "mimetype": "text/x-python",
   "name": "python",
   "nbconvert_exporter": "python",
   "pygments_lexer": "ipython3",
   "version": "3.6.5"
  }
 },
 "nbformat": 4,
 "nbformat_minor": 2
}
