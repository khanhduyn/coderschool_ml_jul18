{
 "cells": [
  {
   "cell_type": "markdown",
   "metadata": {},
   "source": [
    "# Lesson 1 - Fundamentals (part 2)\n",
    "\n",
    "**Prereading**\n",
    "\n",
    "[statistical distributions (https://blog.cloudera.com)](https://blog.cloudera.com/blog/2015/12/common-probability-distributions-the-data-scientists-crib-sheet/)\n",
    "\n",
    "**Goal**\n",
    "\n",
    "After this lesson, you should:\n",
    "1. Know how to setup a working python environment on your computer using anaconda\n",
    "2. Understand the following concepts:\n",
    "    - probability distributions\n",
    "    - central limit theorem\n",
    "    - covariance\n",
    "    - correlation / causation\n",
    "    - hypothesis testing\n",
    "    - p-value\n",
    "   \n",
    "-----\n",
    "\n",
    "#### Some notes from Lesson 1 - (Part 1)\n",
    "\n",
    "I received some feedback on the pace and structure. \n",
    "> What math/programming is required for this course?\n",
    "- A foundational background in highschool probability/statistics.\n",
    "- A intro level undergraduate statistics course would be helpful.\n",
    "- Experience with at least 1 other high level programming langauge (e.g. Python, Ruby, C#, etc...)\n",
    "\n",
    "Some resources to help refresh on these concepts:\n",
    "\n",
    "- https://www.khanacademy.org/math\n",
    "- https://www.khanacademy.org/math/statistics-probability\n",
    "- http://www.henry.k12.ga.us/ugh/apstat/chapternotes/7supplement.html\n",
    "- https://blog.cloudera.com/blog/2015/12/common-probability-distributions-the-data-scientists-crib-sheet/\n",
    "- https://www.learnpython.org/\n",
    "\n",
    "## Recap and Quick Overview on Distributions\n",
    "\n",
    "From last lesson, recall:\n",
    "\n",
    "$$\n",
    "    Err(x) = \\text{Bias}^2 + \\sigma^2 + \\text{Irreducible Error}\n",
    "$$\n",
    "\n",
    "This is the *bias-variance tradeoff*, and it says that there is a tradeoff when building a model between the strength of our assumptions and the complexity of our model.\n",
    "\n",
    "![BV image](https://www.kdnuggets.com/wp-content/uploads/bias-and-variance.jpg)\n",
    "\n",
    "---"
   ]
  },
  {
   "cell_type": "code",
   "execution_count": 1,
   "metadata": {},
   "outputs": [],
   "source": [
    "import numpy as np\n",
    "import pandas as pd\n",
    "import matplotlib.pyplot as plt"
   ]
  },
  {
   "cell_type": "markdown",
   "metadata": {},
   "source": [
    "After doing the pre-reading, you should all have more familiary with some of the most common distributions. Let's refresh on some of these concepts and use python to generate the more common distributions.\n",
    "\n",
    "### Discrete vs Continuous\n",
    "\n",
    "> A **discrete** variable is one which may be counted (e.g. # of coin flips)\n",
    "\n",
    "> A **continuous** variable is one which may be measured (e.g. max height of a coin flip)\n",
    "\n",
    "**Bernoulli**\n",
    "\n",
    "$\n",
    "    bern(p) = \\cases{p, & \\text{if $x = 1$} \\\\ 1 - p, &\\text{if $x = 0$}}\n",
    "$\n",
    "\n",
    "$\\mu:p$\n",
    "\n",
    "$\\sigma^2:p(1-p)$ \n",
    "\n",
    "*Example: The French national team will win the world cup, or they won't.*"
   ]
  },
  {
   "cell_type": "code",
   "execution_count": 56,
   "metadata": {},
   "outputs": [
    {
     "data": {
      "text/plain": [
       "(array([509.,   0.,   0.,   0.,   0.,   0.,   0.,   0.,   0., 491.]),\n",
       " array([0. , 0.1, 0.2, 0.3, 0.4, 0.5, 0.6, 0.7, 0.8, 0.9, 1. ]),\n",
       " <a list of 10 Patch objects>)"
      ]
     },
     "execution_count": 56,
     "metadata": {},
     "output_type": "execute_result"
    },
    {
     "data": {
      "image/png": "[encoded data removed]",
      "text/plain": [
       "<Figure size 432x288 with 1 Axes>"
      ]
     },
     "metadata": {},
     "output_type": "display_data"
    }
   ],
   "source": [
    "bern_dist = np.random.binomial(1, 0.5, 1000)\n",
    "plt.hist(bern_dist)"
   ]
  },
  {
   "cell_type": "markdown",
   "metadata": {},
   "source": [
    "**Binomial**\n",
    "\n",
    "$\n",
    "    binom(n,p) = \\cases{\\binom{n}{k}p^k(1-p)^{n-k} \\quad\\text{for $0 \\leq k \\leq n$}}\n",
    "$\n",
    "\n",
    "$\\mu:np$\n",
    "\n",
    "$\\sigma^2:np(1-p)$\n",
    "\n",
    "*Example: After lowering the price of your product, sales either increase or they do not*"
   ]
  },
  {
   "cell_type": "code",
   "execution_count": 57,
   "metadata": {},
   "outputs": [
    {
     "data": {
      "text/plain": [
       "(array([  1.,   6.,  36., 110., 200., 248., 210., 120.,  56.,  13.]),\n",
       " array([444. , 453.9, 463.8, 473.7, 483.6, 493.5, 503.4, 513.3, 523.2,\n",
       "        533.1, 543. ]),\n",
       " <a list of 10 Patch objects>)"
      ]
     },
     "execution_count": 57,
     "metadata": {},
     "output_type": "execute_result"
    },
    {
     "data": {
      "image/png": "[encoded data removed]",
      "text/plain": [
       "<Figure size 432x288 with 1 Axes>"
      ]
     },
     "metadata": {},
     "output_type": "display_data"
    }
   ],
   "source": [
    "bino_dist = np.random.binomial(1000, 0.5, 1000)\n",
    "plt.hist(bino_dist)"
   ]
  },
  {
   "cell_type": "markdown",
   "metadata": {},
   "source": [
    "**Geometric**\n",
    "\n",
    "$\n",
    "    geom(p) = p(1-p)^{k-1} \\quad\\text{for $k=1,2,...$}\n",
    "$\n",
    "\n",
    "$\\mu: \\frac{1}{p}$\n",
    "\n",
    "$\\sigma^2: \\frac{1 - p}{p^2}$\n",
    "\n",
    "*Example: You ask people in an electronics store whether they want to purchase an Asus computer until you find someone who says, \"yes.\" The geometric distribution represents the number of people you needed to ask before someone said \"yes.\"*"
   ]
  },
  {
   "cell_type": "code",
   "execution_count": null,
   "metadata": {},
   "outputs": [],
   "source": [
    "geom_"
   ]
  },
  {
   "cell_type": "markdown",
   "metadata": {},
   "source": [
    "**Poisson**\n",
    "\n",
    "$\n",
    "    poiss(\\lambda) = \\frac{e^{-\\lambda}\\lambda^{x}}{x!} \\quad\\text{for k=1,2,...}\n",
    "$\n",
    "\n",
    "$\\mu:\\lambda$\n",
    "\n",
    "$\\sigma^2:\\lambda$\n",
    "\n",
    "*Example: The number of patrons who visit a restaurant per hour. If the restaurant gets (on average) X patrons per hour, the actual amount is variable and likely ascribes to a Poisson distribution.*"
   ]
  },
  {
   "cell_type": "code",
   "execution_count": 67,
   "metadata": {},
   "outputs": [
    {
     "data": {
      "text/plain": [
       "(array([ 57., 149., 219., 233., 170.,  81.,  51.,  28.,  11.]),\n",
       " array([0, 1, 2, 3, 4, 5, 6, 7, 8, 9]),\n",
       " <a list of 9 Patch objects>)"
      ]
     },
     "execution_count": 67,
     "metadata": {},
     "output_type": "execute_result"
    },
    {
     "data": {
      "image/png": "[encoded data removed]",
      "text/plain": [
       "<Figure size 432x288 with 1 Axes>"
      ]
     },
     "metadata": {},
     "output_type": "display_data"
    }
   ],
   "source": [
    "poiss_idst = np.random.poisson(3, size=1000)\n",
    "plt.hist(poiss_idst, bins=range(0, 10, 1))"
   ]
  },
  {
   "cell_type": "markdown",
   "metadata": {},
   "source": [
    "**Uniform**\n",
    "\n",
    "$\n",
    "    unif(a,b) = \\frac{1}{b-a} \\quad\\text{ for every $x$ in the interval $(a,b)$}\n",
    "$\n",
    "\n",
    "$\\mu: \\frac{a+b}{2}$\n",
    "\n",
    "$\\sigma^2: \\frac{(b-a)^2}{12}$\n",
    "\n",
    "*Example: Someone waiting for a bus which comes every hour. He doesn't know the last time the bus arrived, but he knows it will arrive within the next hour.*"
   ]
  },
  {
   "cell_type": "code",
   "execution_count": null,
   "metadata": {},
   "outputs": [],
   "source": [
    "np.arange"
   ]
  },
  {
   "cell_type": "markdown",
   "metadata": {},
   "source": [
    "**Normal**\n",
    "\n",
    "$\n",
    "    norm(\\mu,\\sigma^2) = \\frac{1}{\\sigma\\sqrt{2\\pi}}e^{-\\frac{(x-\\mu)^2}{2\\sigma^2}}\n",
    "$\n",
    "\n",
    "$\\mu: \\mu$\n",
    "\n",
    "$\\sigma^2: \\sigma^2$\n",
    "\n",
    "*Example: Many people argue that almost nothing is truly normally distributed, but the Central Limit Theorem allows us to view the means of any crazy distribution as asymptotically normal. However, resting body temperature is a good example to view something approximately normal.*"
   ]
  },
  {
   "cell_type": "code",
   "execution_count": 76,
   "metadata": {},
   "outputs": [
    {
     "data": {
      "text/plain": [
       "(array([1.000e+00, 5.000e+00, 0.000e+00, 3.000e+00, 4.000e+00, 3.000e+00,\n",
       "        7.000e+00, 7.000e+00, 7.000e+00, 4.000e+00, 1.000e+01, 5.000e+00,\n",
       "        8.000e+00, 1.000e+01, 8.000e+00, 1.300e+01, 9.000e+00, 1.000e+01,\n",
       "        1.000e+01, 9.000e+00, 2.100e+01, 1.500e+01, 1.600e+01, 2.300e+01,\n",
       "        1.700e+01, 2.200e+01, 1.200e+01, 2.100e+01, 2.000e+01, 2.200e+01,\n",
       "        1.900e+01, 2.900e+01, 3.400e+01, 2.100e+01, 3.200e+01, 4.200e+01,\n",
       "        3.300e+01, 4.300e+01, 3.900e+01, 4.200e+01, 5.100e+01, 7.000e+01,\n",
       "        5.500e+01, 6.600e+01, 7.000e+01, 6.400e+01, 9.300e+01, 7.600e+01,\n",
       "        8.300e+01, 8.400e+01, 8.800e+01, 9.800e+01, 1.000e+02, 9.900e+01,\n",
       "        1.280e+02, 1.190e+02, 1.180e+02, 1.460e+02, 1.400e+02, 1.610e+02,\n",
       "        1.710e+02, 1.510e+02, 1.960e+02, 1.830e+02, 2.120e+02, 2.300e+02,\n",
       "        2.560e+02, 2.440e+02, 2.370e+02, 2.660e+02, 2.790e+02, 2.850e+02,\n",
       "        3.010e+02, 3.200e+02, 3.280e+02, 3.480e+02, 3.770e+02, 3.730e+02,\n",
       "        3.980e+02, 4.850e+02, 4.710e+02, 4.920e+02, 4.860e+02, 5.740e+02,\n",
       "        5.680e+02, 5.780e+02, 6.410e+02, 6.680e+02, 6.660e+02, 6.750e+02,\n",
       "        7.840e+02, 7.310e+02, 8.090e+02, 8.910e+02, 8.510e+02, 9.160e+02,\n",
       "        9.770e+02, 1.035e+03, 1.035e+03, 1.056e+03, 1.116e+03, 1.130e+03,\n",
       "        1.149e+03, 1.214e+03, 1.326e+03, 1.344e+03, 1.438e+03, 1.441e+03,\n",
       "        1.432e+03, 1.464e+03, 1.593e+03, 1.681e+03, 1.736e+03, 1.786e+03,\n",
       "        1.844e+03, 1.919e+03, 2.050e+03, 2.059e+03, 2.025e+03, 2.189e+03,\n",
       "        2.163e+03, 2.366e+03, 2.390e+03, 2.490e+03, 2.664e+03, 2.688e+03,\n",
       "        2.731e+03, 2.843e+03, 2.884e+03, 2.923e+03, 3.089e+03, 3.128e+03,\n",
       "        3.299e+03, 3.307e+03, 3.361e+03, 3.522e+03, 3.610e+03, 3.710e+03,\n",
       "        3.688e+03, 3.904e+03, 3.905e+03, 4.067e+03, 4.023e+03, 4.264e+03,\n",
       "        4.316e+03, 4.451e+03, 4.563e+03, 4.671e+03, 4.774e+03, 4.682e+03,\n",
       "        4.878e+03, 5.009e+03, 5.111e+03, 5.194e+03, 5.297e+03, 5.369e+03,\n",
       "        5.538e+03, 5.565e+03, 5.740e+03, 5.830e+03, 5.626e+03, 5.883e+03,\n",
       "        5.976e+03, 6.134e+03, 6.093e+03, 6.222e+03, 6.226e+03, 6.471e+03,\n",
       "        6.480e+03, 6.573e+03, 6.649e+03, 6.639e+03, 6.969e+03, 6.744e+03,\n",
       "        7.041e+03, 6.982e+03, 7.085e+03, 7.371e+03, 7.176e+03, 7.378e+03,\n",
       "        7.456e+03, 7.499e+03, 7.479e+03, 7.528e+03, 7.562e+03, 7.733e+03,\n",
       "        7.677e+03, 7.653e+03, 7.643e+03, 7.809e+03, 7.849e+03, 7.925e+03,\n",
       "        7.999e+03, 7.895e+03, 7.991e+03, 7.958e+03, 7.884e+03, 7.886e+03,\n",
       "        7.896e+03, 8.071e+03, 7.986e+03, 7.843e+03, 7.930e+03, 7.897e+03,\n",
       "        7.919e+03, 7.957e+03, 7.952e+03, 8.027e+03, 7.808e+03, 7.833e+03,\n",
       "        7.887e+03, 7.817e+03, 7.785e+03, 7.667e+03, 7.502e+03, 7.613e+03,\n",
       "        7.551e+03, 7.504e+03, 7.470e+03, 7.248e+03, 7.358e+03, 7.083e+03,\n",
       "        7.208e+03, 7.094e+03, 7.108e+03, 7.085e+03, 6.963e+03, 6.860e+03,\n",
       "        6.859e+03, 6.604e+03, 6.431e+03, 6.560e+03, 6.345e+03, 6.373e+03,\n",
       "        6.369e+03, 6.317e+03, 6.158e+03, 6.037e+03, 5.936e+03, 5.928e+03,\n",
       "        5.847e+03, 5.794e+03, 5.493e+03, 5.375e+03, 5.434e+03, 5.176e+03,\n",
       "        5.134e+03, 5.187e+03, 4.923e+03, 4.989e+03, 4.814e+03, 4.645e+03,\n",
       "        4.574e+03, 4.430e+03, 4.440e+03, 4.353e+03, 4.133e+03, 4.129e+03,\n",
       "        4.005e+03, 3.930e+03, 3.925e+03, 3.695e+03, 3.608e+03, 3.597e+03,\n",
       "        3.512e+03, 3.420e+03, 3.153e+03, 3.131e+03, 3.069e+03, 3.037e+03,\n",
       "        2.906e+03, 2.804e+03, 2.719e+03, 2.702e+03, 2.690e+03, 2.611e+03,\n",
       "        2.467e+03, 2.424e+03, 2.280e+03, 2.296e+03, 2.234e+03, 2.139e+03,\n",
       "        2.038e+03, 2.009e+03, 1.915e+03, 1.908e+03, 1.785e+03, 1.685e+03,\n",
       "        1.642e+03, 1.678e+03, 1.578e+03, 1.505e+03, 1.489e+03, 1.434e+03,\n",
       "        1.302e+03, 1.346e+03, 1.210e+03, 1.195e+03, 1.116e+03, 1.061e+03,\n",
       "        1.034e+03, 9.990e+02, 9.870e+02, 9.140e+02, 8.750e+02, 9.150e+02,\n",
       "        8.190e+02, 8.350e+02, 7.750e+02, 7.280e+02, 6.650e+02, 6.590e+02,\n",
       "        6.290e+02, 6.280e+02, 5.830e+02, 5.690e+02, 5.440e+02, 5.050e+02,\n",
       "        4.590e+02, 4.720e+02, 4.540e+02, 4.260e+02, 4.070e+02, 3.540e+02,\n",
       "        3.420e+02, 3.450e+02, 3.200e+02, 3.190e+02, 3.230e+02, 2.620e+02,\n",
       "        2.640e+02, 2.560e+02, 2.430e+02, 2.290e+02, 2.030e+02, 2.090e+02,\n",
       "        2.010e+02, 1.940e+02, 1.960e+02, 1.690e+02, 1.650e+02, 1.290e+02,\n",
       "        1.330e+02, 1.230e+02, 1.090e+02, 1.200e+02, 1.050e+02, 1.110e+02,\n",
       "        1.310e+02, 8.400e+01, 6.800e+01, 8.400e+01, 6.600e+01, 8.300e+01,\n",
       "        8.000e+01, 6.800e+01, 6.000e+01, 4.700e+01, 5.200e+01, 4.500e+01,\n",
       "        4.100e+01, 3.000e+01, 4.300e+01, 3.200e+01, 4.200e+01, 3.300e+01,\n",
       "        2.800e+01, 2.100e+01, 2.000e+01, 2.800e+01, 2.400e+01, 1.500e+01,\n",
       "        1.400e+01, 1.700e+01, 2.600e+01, 1.400e+01, 1.800e+01, 1.000e+01,\n",
       "        1.400e+01, 1.000e+01, 1.300e+01, 9.000e+00, 1.000e+01, 8.000e+00,\n",
       "        1.000e+01, 7.000e+00, 5.000e+00, 6.000e+00, 1.000e+01, 8.000e+00,\n",
       "        5.000e+00, 6.000e+00, 6.000e+00, 6.000e+00, 3.000e+00, 5.000e+00,\n",
       "        4.000e+00, 1.000e+00, 4.000e+00, 2.000e+00, 6.000e+00, 4.000e+00,\n",
       "        1.000e+00, 1.000e+00, 3.000e+00, 1.000e+00, 2.000e+00, 1.000e+00,\n",
       "        2.000e+00, 1.000e+00, 1.000e+00, 3.000e+00, 0.000e+00, 0.000e+00,\n",
       "        0.000e+00, 2.000e+00, 1.000e+00, 1.000e+00, 0.000e+00, 0.000e+00,\n",
       "        0.000e+00, 0.000e+00, 0.000e+00, 1.000e+00, 1.000e+00, 0.000e+00,\n",
       "        0.000e+00, 0.000e+00, 0.000e+00, 0.000e+00, 0.000e+00, 0.000e+00,\n",
       "        0.000e+00, 0.000e+00, 0.000e+00, 0.000e+00, 0.000e+00, 0.000e+00,\n",
       "        0.000e+00, 0.000e+00, 0.000e+00, 0.000e+00, 0.000e+00, 0.000e+00,\n",
       "        0.000e+00, 0.000e+00, 0.000e+00, 0.000e+00, 0.000e+00, 0.000e+00,\n",
       "        0.000e+00, 0.000e+00, 0.000e+00, 0.000e+00, 0.000e+00, 0.000e+00,\n",
       "        0.000e+00, 0.000e+00, 0.000e+00, 0.000e+00, 0.000e+00, 0.000e+00,\n",
       "        0.000e+00, 0.000e+00, 0.000e+00, 0.000e+00, 0.000e+00, 0.000e+00,\n",
       "        0.000e+00, 0.000e+00, 0.000e+00, 0.000e+00, 0.000e+00, 0.000e+00,\n",
       "        0.000e+00, 0.000e+00, 0.000e+00, 0.000e+00, 0.000e+00, 0.000e+00,\n",
       "        0.000e+00, 0.000e+00, 0.000e+00, 0.000e+00, 0.000e+00, 0.000e+00,\n",
       "        0.000e+00, 0.000e+00, 0.000e+00, 0.000e+00, 0.000e+00, 0.000e+00,\n",
       "        0.000e+00, 0.000e+00, 0.000e+00, 0.000e+00, 0.000e+00, 0.000e+00,\n",
       "        0.000e+00]),\n",
       " array([35.  , 35.01, 35.02, 35.03, 35.04, 35.05, 35.06, 35.07, 35.08,\n",
       "        35.09, 35.1 , 35.11, 35.12, 35.13, 35.14, 35.15, 35.16, 35.17,\n",
       "        35.18, 35.19, 35.2 , 35.21, 35.22, 35.23, 35.24, 35.25, 35.26,\n",
       "        35.27, 35.28, 35.29, 35.3 , 35.31, 35.32, 35.33, 35.34, 35.35,\n",
       "        35.36, 35.37, 35.38, 35.39, 35.4 , 35.41, 35.42, 35.43, 35.44,\n",
       "        35.45, 35.46, 35.47, 35.48, 35.49, 35.5 , 35.51, 35.52, 35.53,\n",
       "        35.54, 35.55, 35.56, 35.57, 35.58, 35.59, 35.6 , 35.61, 35.62,\n",
       "        35.63, 35.64, 35.65, 35.66, 35.67, 35.68, 35.69, 35.7 , 35.71,\n",
       "        35.72, 35.73, 35.74, 35.75, 35.76, 35.77, 35.78, 35.79, 35.8 ,\n",
       "        35.81, 35.82, 35.83, 35.84, 35.85, 35.86, 35.87, 35.88, 35.89,\n",
       "        35.9 , 35.91, 35.92, 35.93, 35.94, 35.95, 35.96, 35.97, 35.98,\n",
       "        35.99, 36.  , 36.01, 36.02, 36.03, 36.04, 36.05, 36.06, 36.07,\n",
       "        36.08, 36.09, 36.1 , 36.11, 36.12, 36.13, 36.14, 36.15, 36.16,\n",
       "        36.17, 36.18, 36.19, 36.2 , 36.21, 36.22, 36.23, 36.24, 36.25,\n",
       "        36.26, 36.27, 36.28, 36.29, 36.3 , 36.31, 36.32, 36.33, 36.34,\n",
       "        36.35, 36.36, 36.37, 36.38, 36.39, 36.4 , 36.41, 36.42, 36.43,\n",
       "        36.44, 36.45, 36.46, 36.47, 36.48, 36.49, 36.5 , 36.51, 36.52,\n",
       "        36.53, 36.54, 36.55, 36.56, 36.57, 36.58, 36.59, 36.6 , 36.61,\n",
       "        36.62, 36.63, 36.64, 36.65, 36.66, 36.67, 36.68, 36.69, 36.7 ,\n",
       "        36.71, 36.72, 36.73, 36.74, 36.75, 36.76, 36.77, 36.78, 36.79,\n",
       "        36.8 , 36.81, 36.82, 36.83, 36.84, 36.85, 36.86, 36.87, 36.88,\n",
       "        36.89, 36.9 , 36.91, 36.92, 36.93, 36.94, 36.95, 36.96, 36.97,\n",
       "        36.98, 36.99, 37.  , 37.01, 37.02, 37.03, 37.04, 37.05, 37.06,\n",
       "        37.07, 37.08, 37.09, 37.1 , 37.11, 37.12, 37.13, 37.14, 37.15,\n",
       "        37.16, 37.17, 37.18, 37.19, 37.2 , 37.21, 37.22, 37.23, 37.24,\n",
       "        37.25, 37.26, 37.27, 37.28, 37.29, 37.3 , 37.31, 37.32, 37.33,\n",
       "        37.34, 37.35, 37.36, 37.37, 37.38, 37.39, 37.4 , 37.41, 37.42,\n",
       "        37.43, 37.44, 37.45, 37.46, 37.47, 37.48, 37.49, 37.5 , 37.51,\n",
       "        37.52, 37.53, 37.54, 37.55, 37.56, 37.57, 37.58, 37.59, 37.6 ,\n",
       "        37.61, 37.62, 37.63, 37.64, 37.65, 37.66, 37.67, 37.68, 37.69,\n",
       "        37.7 , 37.71, 37.72, 37.73, 37.74, 37.75, 37.76, 37.77, 37.78,\n",
       "        37.79, 37.8 , 37.81, 37.82, 37.83, 37.84, 37.85, 37.86, 37.87,\n",
       "        37.88, 37.89, 37.9 , 37.91, 37.92, 37.93, 37.94, 37.95, 37.96,\n",
       "        37.97, 37.98, 37.99, 38.  , 38.01, 38.02, 38.03, 38.04, 38.05,\n",
       "        38.06, 38.07, 38.08, 38.09, 38.1 , 38.11, 38.12, 38.13, 38.14,\n",
       "        38.15, 38.16, 38.17, 38.18, 38.19, 38.2 , 38.21, 38.22, 38.23,\n",
       "        38.24, 38.25, 38.26, 38.27, 38.28, 38.29, 38.3 , 38.31, 38.32,\n",
       "        38.33, 38.34, 38.35, 38.36, 38.37, 38.38, 38.39, 38.4 , 38.41,\n",
       "        38.42, 38.43, 38.44, 38.45, 38.46, 38.47, 38.48, 38.49, 38.5 ,\n",
       "        38.51, 38.52, 38.53, 38.54, 38.55, 38.56, 38.57, 38.58, 38.59,\n",
       "        38.6 , 38.61, 38.62, 38.63, 38.64, 38.65, 38.66, 38.67, 38.68,\n",
       "        38.69, 38.7 , 38.71, 38.72, 38.73, 38.74, 38.75, 38.76, 38.77,\n",
       "        38.78, 38.79, 38.8 , 38.81, 38.82, 38.83, 38.84, 38.85, 38.86,\n",
       "        38.87, 38.88, 38.89, 38.9 , 38.91, 38.92, 38.93, 38.94, 38.95,\n",
       "        38.96, 38.97, 38.98, 38.99, 39.  , 39.01, 39.02, 39.03, 39.04,\n",
       "        39.05, 39.06, 39.07, 39.08, 39.09, 39.1 , 39.11, 39.12, 39.13,\n",
       "        39.14, 39.15, 39.16, 39.17, 39.18, 39.19, 39.2 , 39.21, 39.22,\n",
       "        39.23, 39.24, 39.25, 39.26, 39.27, 39.28, 39.29, 39.3 , 39.31,\n",
       "        39.32, 39.33, 39.34, 39.35, 39.36, 39.37, 39.38, 39.39, 39.4 ,\n",
       "        39.41, 39.42, 39.43, 39.44, 39.45, 39.46, 39.47, 39.48, 39.49,\n",
       "        39.5 , 39.51, 39.52, 39.53, 39.54, 39.55, 39.56, 39.57, 39.58,\n",
       "        39.59, 39.6 , 39.61, 39.62, 39.63, 39.64, 39.65, 39.66, 39.67,\n",
       "        39.68, 39.69, 39.7 , 39.71, 39.72, 39.73, 39.74, 39.75, 39.76,\n",
       "        39.77, 39.78, 39.79, 39.8 , 39.81, 39.82, 39.83, 39.84, 39.85,\n",
       "        39.86, 39.87, 39.88, 39.89, 39.9 , 39.91, 39.92, 39.93, 39.94,\n",
       "        39.95, 39.96, 39.97, 39.98, 39.99]),\n",
       " <a list of 499 Patch objects>)"
      ]
     },
     "execution_count": 76,
     "metadata": {},
     "output_type": "execute_result"
    },
    {
     "data": {
      "image/png": "[encoded data removed]",
      "text/plain": [
       "<Figure size 432x288 with 1 Axes>"
      ]
     },
     "metadata": {},
     "output_type": "display_data"
    }
   ],
   "source": [
    "norm_dist = np.random.normal(37, 0.5, size=1000000)\n",
    "plt.hist(norm_dist, bins=np.arange(35, 40, 0.01))"
   ]
  },
  {
   "cell_type": "markdown",
   "metadata": {},
   "source": [
    "**Exponential**\n",
    "\n",
    "$\n",
    "    exp(\\lambda) = \\lambda e^{-x\\lambda} \\quad\\text{$x \\geq 0, \\lambda > 0$}\n",
    "$\n",
    "\n",
    "$\\mu: \\frac{1}{\\lambda}$\n",
    "\n",
    "$\\sigma^2: \\frac{1}{\\lambda^2}$\n",
    "\n",
    "*Example: The time it takes a bank teller to serve a customer. (any example which arises by the waiting time in a homogenous Poisson process)*"
   ]
  },
  {
   "cell_type": "code",
   "execution_count": 86,
   "metadata": {},
   "outputs": [
    {
     "data": {
      "text/plain": [
       "(array([0.000e+00, 0.000e+00, 0.000e+00, 0.000e+00, 0.000e+00, 0.000e+00,\n",
       "        0.000e+00, 1.000e+00, 3.000e+00, 2.000e+00, 8.000e+00, 3.000e+01,\n",
       "        5.100e+01, 8.900e+01, 1.850e+02, 2.970e+02, 5.040e+02, 7.800e+02,\n",
       "        9.720e+02, 1.201e+03, 1.365e+03, 1.286e+03, 1.157e+03, 9.470e+02,\n",
       "        5.990e+02, 3.410e+02, 1.290e+02, 4.400e+01, 8.000e+00]),\n",
       " array([ 0,  1,  2,  3,  4,  5,  6,  7,  8,  9, 10, 11, 12, 13, 14, 15, 16,\n",
       "        17, 18, 19, 20, 21, 22, 23, 24, 25, 26, 27, 28, 29]),\n",
       " <a list of 29 Patch objects>)"
      ]
     },
     "execution_count": 86,
     "metadata": {},
     "output_type": "execute_result"
    },
    {
     "data": {
      "image/png": "[encoded data removed]",
      "text/plain": [
       "<Figure size 432x288 with 1 Axes>"
      ]
     },
     "metadata": {},
     "output_type": "display_data"
    }
   ],
   "source": [
    "r_dist = np.concatenate([np.random.poisson(3, size=10000),\n",
    "                        np.random.geometric(0.5, size=10000),\n",
    "                        np.random.poisson(24, size=100000)])\n",
    "# plt.hist(r_dist)\n",
    "result = []\n",
    "for i in range(0, 10000):\n",
    "    result.append(np.mean(np.random.choice(r_dist, 10)))\n",
    "plt.hist(result, bins=np.arange(0, 30, 1))"
   ]
  },
  {
   "cell_type": "markdown",
   "metadata": {},
   "source": [
    "## Central Limit Theorem\n",
    "\n",
    "> The sampling distribution tends to look normal.\n",
    "\n",
    "This is important because it says that, given certain conditions, you can approximately almost any distribution with the normal distribution, even if the underlying distribution is not normal.\n",
    "\n",
    "Specifically, $\\bar{X} \\sim Normal\\big(\\mu,\\frac{\\sigma^2}{n}\\big)$, and the derived standard variable $Z = \\frac{\\bar{X}-\\mu}{\\sigma\\space\\space/\\sqrt{n}}$. In other words, this describes the standard deviation of sample means given multiple samples from an underlying distribution."
   ]
  },
  {
   "cell_type": "code",
   "execution_count": 89,
   "metadata": {},
   "outputs": [
    {
     "data": {
      "text/plain": [
       "Index(['District Number', 'District', 'School', 'Test-takers: 2012',\n",
       "       'Test-takers: 2013', 'Test-takers: Change%',\n",
       "       'Participation Rate (estimate): 2012',\n",
       "       'Participation Rate (estimate): 2013',\n",
       "       'Participation Rate (estimate): Change%',\n",
       "       'Percent Meeting Benchmark: 2012', 'Percent Meeting Benchmark: 2013',\n",
       "       'Percent Meeting Benchmark: Change%'],\n",
       "      dtype='object')"
      ]
     },
     "execution_count": 89,
     "metadata": {},
     "output_type": "execute_result"
    }
   ],
   "source": [
    "# Let's explore the Central Limit theorem using math SAT scores located in ./data/scores.csv\n",
    "# first, we will import scipy\n",
    "import scipy as sp\n",
    "scores = pd.read_csv(\"./SAT_School_Participation_and_Performance__2012-2013.csv\")\n",
    "scores.columns"
   ]
  },
  {
   "cell_type": "markdown",
   "metadata": {},
   "source": [
    "## Covariance & Correlation\n",
    "\n",
    "**Covariance** measures how two random variables change together. When calculating a covariance matrix, the data is not standardized, and thus you cannot use the covariance statistic to assess the strength of a linear relationship. You can only infer that a relationship exists.\n",
    "\n",
    "> Discussion, why might covariance be useful?"
   ]
  },
  {
   "cell_type": "code",
   "execution_count": null,
   "metadata": {},
   "outputs": [],
   "source": [
    "# examining covariance using SAT scores"
   ]
  },
  {
   "cell_type": "markdown",
   "metadata": {},
   "source": [
    "**Correlation** measures how two random variables are related. There are multiple ways of measuring correlation, but for now, it sufficies to say that there exists a special number called the *correlation coefficient*, which provides a measure of the linear relationship between two random variables."
   ]
  },
  {
   "cell_type": "code",
   "execution_count": null,
   "metadata": {},
   "outputs": [],
   "source": [
    "# let's now examine correlation in SAT scores"
   ]
  },
  {
   "cell_type": "markdown",
   "metadata": {},
   "source": [
    "## Hypothesis Testing\n",
    "\n",
    "The primary purpose of statistics is to test a *hypothesis*. A **hypothesis** is a statement about an observation. When we propose a hypothesis we need to *test* that hypothesis against some data.\n",
    "\n",
    "In machine learning, we will often want to compare two models against one another or the same model against itself with different configurations. If the expected performance of two different models, how do we know that the difference is significant? What does it even mean to be signficant?\n",
    "\n",
    "#### Terminology\n",
    "\n",
    "- **null hypothesis H$_0$**: A default position that there is no relationship between two measured random variables.\n",
    "\n",
    "- **alternative hypothesis H$_A$**: The rival hypothesis which claims relationship between two measured random variables.\n",
    "\n",
    "- **test statistic**: A sample used to determine whether the alternative hypothesis is rejected or accepted. The test statistic measures the agreement between a sample of data and the null hypothesis.\n",
    "\n",
    "- **significance level $\\alpha$**: A probability threshold which admits the alternative hypothesis. Specifically, *it is the probability of rejecting the null hypothesis when it is true.* For example, $\\alpha = .05$ means there is a $5\\%$ risk of saying there is a signficant result, when in reality there is no difference.\n",
    "\n",
    "- **p-value**: The probability of obtaining an effect at least as extreme as the one in the sample data, assuming the null hypothesis is true.\n",
    "\n",
    "Let's understand significance level a little more. Consider the following graph with $\\alpha = 0.5$. We see that the 5% of the distribution furthest from the null hypothesis is shaded. If we have a sample mean of $330.6$ which falls in the *critical region*, it means it is statistically significant at the 5% threshold.\n",
    "\n",
    "![sig graph](https://blog.minitab.com/hubfs/Imported_Blog_Media/sig_level_05.png?t=1531941588303)\n",
    "\n",
    "So what's a p-value? Consider the same sample mean of $330.6$. We determine the distance from the null hypothesis and then consider the probability of obtaining a sample mean which is *at least as extreme* in both tails of the distribution $(260 \\pm 70.6)$. This probability represents the likelihood of getting a sample mean that is at least as extreme as our sample mean in both tails. That is the p-value!\n",
    "\n",
    "![pvalue graph](https://blog.minitab.com/hubfs/Imported_Blog_Media/p_value.png?t=1531941588303)\n",
    "\n",
    "\n",
    "### Methodology\n",
    "\n",
    "1. State $H_0$ and $H_A$.\n",
    "2. State any assumptions about the sample or the distributions\n",
    "3. Choose a significance level $\\alpha$\n",
    "4. Compute the appropriate *test statistic* using the collected data\n",
    "5. Compute the *p-value* based on the test statistic"
   ]
  },
  {
   "cell_type": "code",
   "execution_count": 314,
   "metadata": {},
   "outputs": [],
   "source": [
    "# Let's try to apply the above methodology to an analysis of the mean of SAT math scores"
   ]
  },
  {
   "cell_type": "markdown",
   "metadata": {},
   "source": [
    "### Type 1 and Type 2 Errors\n",
    "\n",
    "So, we've used the above methodology to determine the validity of our hypothesis. Now what? Well, we could always be wrong...\n",
    "\n",
    "|                |  $H_0$ is true   | $H_0$ is false   |\n",
    "|----------------|------------------|------------------|\n",
    "| Accept $H_0$   | Correct Decision ($1-\\alpha$) | Type 2 Error ($\\beta$)       |\n",
    "| Regeject $H_0$ | Type 1 Error ($\\alpha$)       | Correct Decision ($1-\\beta$) |"
   ]
  }
 ],
 "metadata": {
  "kernelspec": {
   "display_name": "Python 3",
   "language": "python",
   "name": "python3"
  },
  "language_info": {
   "codemirror_mode": {
    "name": "ipython",
    "version": 3
   },
   "file_extension": ".py",
   "mimetype": "text/x-python",
   "name": "python",
   "nbconvert_exporter": "python",
   "pygments_lexer": "ipython3",
   "version": "3.6.5"
  }
 },
 "nbformat": 4,
 "nbformat_minor": 2
}
