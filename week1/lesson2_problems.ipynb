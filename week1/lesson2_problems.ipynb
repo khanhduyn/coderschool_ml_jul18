{
 "cells": [
  {
   "cell_type": "markdown",
   "metadata": {},
   "source": [
    "# Lesson 1 - Problem Set\n",
    "\n",
    "Please solve the questions in this notebook and submit the completed notebook. The timestamp of submission will be considered the timestamp of completion.\n",
    "\n",
    "1. What is the Central Limit Theorem? $_{5\\text{pts}}$\n",
    "\n",
    "2. Suppose I sell Banh Mi, and the probability that I will receive a customer in any given hour is modeled by the data in `customer_pmf`. Write a python function which shows how the CLT arises from the provided distribution.\n",
    "\n",
    "3. Let's assume that `voter_age_country` contains age data for the entire country of Thailand, and `voter_age_province` contains age data for the province of Amnat Charoen, which is the second most populous province in Thailand. You work for a political firm which is trying to determine voter turn out in Amnat Charoen. In order to more effectively target your advertising dollars, you decide to see analyze the average age of voters in Shanta. Thus you decide to test whether the average age of voters in Amnat Charoen differs from the average age of voters in the entire population of Thailand.\n",
    "> Using the Hypothesis Testing methodology outlined during class, determine whether the average age of voters in Amnat Charoen differs from the entire population. $_{20\\text{pts}}$"
   ]
  },
  {
   "cell_type": "code",
   "execution_count": 1,
   "metadata": {},
   "outputs": [],
   "source": [
    "import numpy as np\n",
    "\n",
    "#### Problem 2 data ###\n",
    "customer_pmf = np.random.poisson(12, size=50000)\n",
    "\n",
    "#### Problem 3 data ####\n",
    "voter_age_country = np.concatenate([np.random.poisson(35,size=15000),np.random.poisson(10,size=10000)])\n",
    "voter_age_province = np.concatenate([np.random.poisson(30,size=30),np.random.poisson(10,size=20)])"
   ]
  },
  {
   "cell_type": "markdown",
   "metadata": {},
   "source": [
    "## 1. What is the Central Litmit Theorem?"
   ]
  },
  {
   "cell_type": "markdown",
   "metadata": {},
   "source": [
    "take a group and sample, average the outcome. Repeat the process. Distribution of final outcome is normal Distribution."
   ]
  },
  {
   "cell_type": "markdown",
   "metadata": {},
   "source": [
    "## 2. Suppose I sell Banh Mi, and the probability that I will receive a customer in any given hour is modeled by the data in customer_pmf. Write a python function which shows how the CLT arises from the provided distribution."
   ]
  },
  {
   "cell_type": "code",
   "execution_count": 2,
   "metadata": {},
   "outputs": [],
   "source": [
    "def apply_clt(X):\n",
    "    trials = 1000000\n",
    "    size = 10\n",
    "    samples = []\n",
    "    for i in range(0, trials):\n",
    "        sample = np.random.choice(X, size=size)\n",
    "        samples.append(np.mean(sample))\n",
    "    return samples"
   ]
  },
  {
   "cell_type": "code",
   "execution_count": 2,
   "metadata": {},
   "outputs": [],
   "source": [
    "pmf = apply_clt(customer_pmf)"
   ]
  },
  {
   "cell_type": "code",
   "execution_count": 3,
   "metadata": {},
   "outputs": [
    {
     "data": {
      "text/plain": [
       "(array([0.00000e+00, 0.00000e+00, 0.00000e+00, 0.00000e+00, 0.00000e+00,\n",
       "        0.00000e+00, 0.00000e+00, 0.00000e+00, 0.00000e+00, 0.00000e+00,\n",
       "        0.00000e+00, 0.00000e+00, 0.00000e+00, 0.00000e+00, 2.00000e+00,\n",
       "        5.20000e+01, 2.90000e+02, 1.63300e+03, 6.65800e+03, 2.02930e+04,\n",
       "        4.89070e+04, 9.41800e+04, 1.42813e+05, 1.75954e+05, 1.76090e+05,\n",
       "        1.42934e+05, 9.70050e+04, 5.39080e+04, 2.50290e+04, 9.66000e+03,\n",
       "        3.38200e+03, 9.44000e+02, 2.24000e+02, 3.50000e+01, 7.00000e+00]),\n",
       " array([ 0. ,  0.5,  1. ,  1.5,  2. ,  2.5,  3. ,  3.5,  4. ,  4.5,  5. ,\n",
       "         5.5,  6. ,  6.5,  7. ,  7.5,  8. ,  8.5,  9. ,  9.5, 10. , 10.5,\n",
       "        11. , 11.5, 12. , 12.5, 13. , 13.5, 14. , 14.5, 15. , 15.5, 16. ,\n",
       "        16.5, 17. , 17.5]),\n",
       " <a list of 35 Patch objects>)"
      ]
     },
     "execution_count": 3,
     "metadata": {},
     "output_type": "execute_result"
    },
    {
     "data": {
      "image/png": "[encoded data removed]",
      "text/plain": [
       "<Figure size 432x288 with 1 Axes>"
      ]
     },
     "metadata": {},
     "output_type": "display_data"
    }
   ],
   "source": [
    "import matplotlib.pyplot as plt\n",
    "%matplotlib inline\n",
    "plt.hist(pmf, bins=np.arange(0, 18, 0.5))"
   ]
  },
  {
   "cell_type": "markdown",
   "metadata": {},
   "source": [
    "### 3. \n",
    "Let's assume that `voter_age_country` contains age data for the entire country of Thailand, and `voter_age_province` contains age data for the province of Amnat Charoen, which is the second most populous province in Thailand. You work for a political firm which is trying to determine voter turn out in Amnat Charoen. In order to more effectively target your advertising dollars, you decide to see analyze the average age of voters in Shanta. Thus you decide to test whether the average age of voters in Amnat Charoen differs from the average age of voters in the entire population of Thailand.\n",
    "> Using the Hypothesis Testing methodology outlined during class, determine whether the average age of voters in Amnat Charoen differs from the entire population. $_{20\\text{pts}}$"
   ]
  },
  {
   "cell_type": "code",
   "execution_count": 3,
   "metadata": {},
   "outputs": [],
   "source": [
    "import seaborn as sns\n",
    "import matplotlib.pyplot as plt"
   ]
  },
  {
   "cell_type": "code",
   "execution_count": 4,
   "metadata": {},
   "outputs": [],
   "source": [
    "def plot_dist(data, legends):\n",
    "    fig, ax = plt.subplots()\n",
    "    for idx, datum in enumerate(data):\n",
    "        sns.distplot(datum, ax=ax, label=legends[idx])\n",
    "    plt.legend()\n",
    "# fig, ax = plt.subplots()\n",
    "# sns.distplot(voter_age_country, ax=ax, label='contry')\n",
    "# sns.distplot(voter_age_province, ax=ax, label='province')\n",
    "# plt.legend()\n",
    "plot_dist([voter_age_country, voter_age_province], ['country', 'province'])"
   ]
  },
  {
   "cell_type": "code",
   "execution_count": 5,
   "metadata": {},
   "outputs": [],
   "source": [
    "clt_country = apply_clt(voter_age_country)\n",
    "clt_province = apply_clt(voter_age_province)"
   ]
  },
  {
   "cell_type": "code",
   "execution_count": 8,
   "metadata": {},
   "outputs": [
    {
     "data": {
      "image/png": "[encoded data removed]",
      "text/plain": [
       "<matplotlib.figure.Figure at 0x7f8818b145c0>"
      ]
     },
     "metadata": {},
     "output_type": "display_data"
    }
   ],
   "source": [
    "%matplotlib inline\n",
    "plot_dist([clt_country, clt_province], ['clt country', 'clt province'])"
   ]
  },
  {
   "cell_type": "markdown",
   "metadata": {},
   "source": [
    "H$_{0}$: the average age of voters in Amnat Charoen is the same with the average age of voters in the entire population of Thailand. (=)\n",
    "\n",
    "H$_{A}$: the average age of voters in Amnat Charoen differs from the average age of voters in the entire population of Thailand. ($\\neq$)\n",
    "\n",
    "Select $\\alpha$ = 0.05"
   ]
  },
  {
   "cell_type": "code",
   "execution_count": 9,
   "metadata": {},
   "outputs": [],
   "source": [
    "alpha = 0.05"
   ]
  },
  {
   "cell_type": "code",
   "execution_count": 10,
   "metadata": {},
   "outputs": [
    {
     "name": "stdout",
     "output_type": "stream",
     "text": [
      "24.9835328 4.1951977893\n"
     ]
    }
   ],
   "source": [
    "# country\n",
    "mean_country = np.mean(clt_country)\n",
    "std_country  = np.std(clt_country)\n",
    "print(mean_country, std_country)"
   ]
  },
  {
   "cell_type": "code",
   "execution_count": 43,
   "metadata": {},
   "outputs": [
    {
     "name": "stdout",
     "output_type": "stream",
     "text": [
      "22.2414906 3.21847374234\n"
     ]
    }
   ],
   "source": [
    "# province\n",
    "mean_province = np.mean(clt_province)\n",
    "std_province = np.std(clt_province)\n",
    "print(mean_province, std_province)"
   ]
  },
  {
   "cell_type": "code",
   "execution_count": 102,
   "metadata": {},
   "outputs": [
    {
     "name": "stdout",
     "output_type": "stream",
     "text": [
      "22.06 2.68149212194\n"
     ]
    }
   ],
   "source": [
    "trials = 20\n",
    "sample_province = np.random.choice(clt_province, trials)\n",
    "mean_sample = np.mean(sample_province)\n",
    "std_sample = np.std(sample_province)\n",
    "print(mean_sample, std_sample)"
   ]
  },
  {
   "cell_type": "code",
   "execution_count": 103,
   "metadata": {},
   "outputs": [
    {
     "name": "stdout",
     "output_type": "stream",
     "text": [
      "-1.64485362695\n"
     ]
    }
   ],
   "source": [
    "# calculate \n",
    "from scipy import stats\n",
    "critical_value = stats.norm.ppf(alpha)\n",
    "print(critical_value)"
   ]
  },
  {
   "cell_type": "markdown",
   "metadata": {},
   "source": [
    "z = (xbar - miu) / std = (xbar - miu)/ (std/sqrt(n))"
   ]
  },
  {
   "cell_type": "code",
   "execution_count": 104,
   "metadata": {},
   "outputs": [
    {
     "name": "stdout",
     "output_type": "stream",
     "text": [
      "-4.87580628843\n"
     ]
    }
   ],
   "source": [
    "z_score = (mean_sample - mean_country) / (std_sample / np.sqrt(trials))\n",
    "print(z_score)"
   ]
  },
  {
   "cell_type": "code",
   "execution_count": 105,
   "metadata": {},
   "outputs": [
    {
     "name": "stdout",
     "output_type": "stream",
     "text": [
      "5.418245526e-07\n",
      "pval < alpha:  True\n"
     ]
    }
   ],
   "source": [
    "pval = stats.norm.cdf(z_score)\n",
    "print(pval)\n",
    "print('pval < alpha: ', pval < alpha)"
   ]
  },
  {
   "cell_type": "markdown",
   "metadata": {},
   "source": [
    "pval < alpha => reject H$_0$, accept H$_A$"
   ]
  },
  {
   "cell_type": "code",
   "execution_count": null,
   "metadata": {},
   "outputs": [],
   "source": []
  }
 ],
 "metadata": {
  "kernelspec": {
   "display_name": "Python 3",
   "language": "python",
   "name": "python3"
  },
  "language_info": {
   "codemirror_mode": {
    "name": "ipython",
    "version": 3
   },
   "file_extension": ".py",
   "mimetype": "text/x-python",
   "name": "python",
   "nbconvert_exporter": "python",
   "pygments_lexer": "ipython3",
   "version": "3.6.1"
  }
 },
 "nbformat": 4,
 "nbformat_minor": 2
}
