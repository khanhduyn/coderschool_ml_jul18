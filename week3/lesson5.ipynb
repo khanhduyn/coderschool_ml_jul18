{
 "cells": [
  {
   "cell_type": "markdown",
   "metadata": {},
   "source": [
    "# Lesson 5\n",
    "\n",
    "We will be turning our attention to regression models. While classification models predict discrete outcomes, regression models deal with predictions of continuous outcomes.\n",
    "\n",
    "**Goal**\n",
    "\n",
    "After this lesson, you should:\n",
    "1. Understand the linear regression model and be able to implement it using sklearn.\n",
    "2. Understand common loss functions (also known as cost functions)\n",
    "3. Understand how we use regularization to prevent overfitting.\n"
   ]
  },
  {
   "cell_type": "code",
   "execution_count": 1,
   "metadata": {},
   "outputs": [],
   "source": [
    "import numpy as np\n",
    "import pandas as pd\n",
    "import sklearn as skl\n",
    "import statsmodels as sm\n",
    "import matplotlib.pyplot as plt\n",
    "import seaborn as sea\n",
    "\n",
    "# control the plotsize\n",
    "plt.rcParams['figure.figsize'] = [10,5]"
   ]
  },
  {
   "cell_type": "code",
   "execution_count": 2,
   "metadata": {},
   "outputs": [],
   "source": [
    "# the dataset we will be using today comes with sklearn\n",
    "from sklearn.datasets import load_boston #boston housing prices"
   ]
  },
  {
   "cell_type": "markdown",
   "metadata": {},
   "source": [
    "### Linear Regression\n",
    "\n",
    "Until this point, we've dealt with models that help us _classify_ discrete entities. However, we often want to predict a continuous quantity. A common use case may be housing prices. Regression can help us answer the question:\n",
    "\n",
    "> How much should I pay for that house?\n",
    "\n",
    "You can reduce the problem to one of classification (e.g. what pricing bucket does this house fall into?), but we often want a more precise answer.\n",
    "\n",
    "**Linear Regression** is a method which allows us to discover a relationship between two continuous variables. It is called _linear_ because it is _linear in it's parameters_. Note, this does not mean that the relationship between the two variables must be linear.\n",
    "\n",
    "$$\n",
    "\\begin{align}\n",
    "f(X) &= AX \\\\\n",
    "     &= \\alpha_0 + \\alpha_1x_1 + \\alpha_2x_1^2 + ...\n",
    "\\end{align}\n",
    "$$\n",
    "\n",
    "Notice that the above equation is still linear in its parameters, but it describes a quadratic function."
   ]
  },
  {
   "cell_type": "code",
   "execution_count": 3,
   "metadata": {},
   "outputs": [],
   "source": [
    "import random\n",
    "xs = [random.uniform(4,10) for x in range(1,100)]\n",
    "ys = [x + random.uniform(-3,10) for x in xs]"
   ]
  },
  {
   "cell_type": "markdown",
   "metadata": {},
   "source": [
    "Let's consider two continuous variables which are related ($x$ and $y$). We want to discover some function $h(x) = \\theta_0 + \\theta_1x$ such that $h(x)$ describes the relationship between $x$ and $y$.\n",
    "\n",
    "Given this data, there are an _infinite_ number of possible functions which can potentially describe this relationship. Thus, we naturally ask ourselves, \"which function _best_ describes the relationship between $y$ and $x$?\"\n",
    "\n",
    "Let's consider three possible functions which may describe the relationship above:\n",
    "\n",
    "$$\n",
    "h_\\text{red}, h_\\text{yellow}, h_\\text{green}\n",
    "$$\n",
    "\n",
    "We can visualize these functions below:"
   ]
  },
  {
   "cell_type": "code",
   "execution_count": 4,
   "metadata": {},
   "outputs": [
    {
     "data": {
      "text/plain": [
       "Text(0.5,1,'Reltionship between x and y')"
      ]
     },
     "execution_count": 4,
     "metadata": {},
     "output_type": "execute_result"
    },
    {
     "data": {
      "image/png": "[encoded data removed]",
      "text/plain": [
       "<Figure size 432x288 with 1 Axes>"
      ]
     },
     "metadata": {},
     "output_type": "display_data"
    }
   ],
   "source": [
    "plt.scatter(xs,ys)\n",
    "plt.ylim((0,20))\n",
    "plt.xlim((0,15))\n",
    "\n",
    "plt.plot([0,20],[0,20],'r--')\n",
    "plt.plot([0,20],[-3,30], 'y--')\n",
    "plt.plot([0,10],[-10,20],'g--')\n",
    "plt.xlabel(\"x\")\n",
    "plt.ylabel(\"y\")\n",
    "plt.title(\"Reltionship between x and y\")"
   ]
  },
  {
   "cell_type": "markdown",
   "metadata": {},
   "source": [
    "### Loss Function (or Cost Function)\n",
    "Just like we declared a cost function on our classification trees (which measured the error once we divided samples), we can consider a cost function on our regression.\n",
    "\n",
    "In other words, _for every possible $\\theta_0$ and $\\theta_1$ that we can try in our $h$ function above, only one pair can be the best_.\n",
    "\n",
    "Let's consider a very common cost function known as the Mean Square Error function:\n",
    "\n",
    "$$\n",
    "    L(\\theta_0,\\theta_1) = \\frac{1}{n}\\sum_{i=1}^{n}\\big(h(x_i) - y_i\\big)^2\n",
    "$$\n",
    "\n",
    "We've seen this function before, and it should be pretty familiar to everyone. It basically says, \"let's approximate our error by summing each individual error\".\n",
    "\n",
    "Thus, we may now phrase our problem as an optimization problem where we attempt to _minimize_ the cost function.\n",
    "\n",
    "We can imagine that the cost function associated with the above plot may look something like this:\n",
    "\n",
    "<img src=\"https://mathinsight.org/media/applet/image/large/local_minimum_two_variables.png\" width=\"300\">\n",
    "\n",
    "Where do you think the cost function is minimized?"
   ]
  },
  {
   "cell_type": "markdown",
   "metadata": {},
   "source": [
    "### Gradient Descent\n",
    "\n",
    "A common algorithm which help us minimze the loss function is called **gradient descent**. This algorithm is intuitively understood as follows:\n",
    "\n",
    "> Image you are somewhere on the top of a dangerously steep hill, and it is very foggy. You can only see 1-2 meters in any direction, but you want to safely and quickly descend the mountain. To begin, you decide to look around and see where the mountain slopes downwards. Upon finding the steepest downward sloping point, you take one step in that direction. You then stop and repeat the process of looking around for another downard sloping point (since you have a slightly different 1-2 meter view).\n",
    "\n",
    "This turns out to be a suprising powerful algorithm which pops up in a number of places."
   ]
  },
  {
   "cell_type": "code",
   "execution_count": 142,
   "metadata": {},
   "outputs": [
    {
     "name": "stdout",
     "output_type": "stream",
     "text": [
      "Boston House Prices dataset\n",
      "===========================\n",
      "\n",
      "Notes\n",
      "------\n",
      "Data Set Characteristics:  \n",
      "\n",
      "    :Number of Instances: 506 \n",
      "\n",
      "    :Number of Attributes: 13 numeric/categorical predictive\n",
      "    \n",
      "    :Median Value (attribute 14) is usually the target\n",
      "\n",
      "    :Attribute Information (in order):\n",
      "        - CRIM     per capita crime rate by town\n",
      "        - ZN       proportion of residential land zoned for lots over 25,000 sq.ft.\n",
      "        - INDUS    proportion of non-retail business acres per town\n",
      "        - CHAS     Charles River dummy variable (= 1 if tract bounds river; 0 otherwise)\n",
      "        - NOX      nitric oxides concentration (parts per 10 million)\n",
      "        - RM       average number of rooms per dwelling\n",
      "        - AGE      proportion of owner-occupied units built prior to 1940\n",
      "        - DIS      weighted distances to five Boston employment centres\n",
      "        - RAD      index of accessibility to radial highways\n",
      "        - TAX      full-value property-tax rate per $10,000\n",
      "        - PTRATIO  pupil-teacher ratio by town\n",
      "        - B        1000(Bk - 0.63)^2 where Bk is the proportion of blacks by town\n",
      "        - LSTAT    % lower status of the population\n",
      "        - MEDV     Median value of owner-occupied homes in $1000's\n",
      "\n",
      "    :Missing Attribute Values: None\n",
      "\n",
      "    :Creator: Harrison, D. and Rubinfeld, D.L.\n",
      "\n",
      "This is a copy of UCI ML housing dataset.\n",
      "http://archive.ics.uci.edu/ml/datasets/Housing\n",
      "\n",
      "\n",
      "This dataset was taken from the StatLib library which is maintained at Carnegie Mellon University.\n",
      "\n",
      "The Boston house-price data of Harrison, D. and Rubinfeld, D.L. 'Hedonic\n",
      "prices and the demand for clean air', J. Environ. Economics & Management,\n",
      "vol.5, 81-102, 1978.   Used in Belsley, Kuh & Welsch, 'Regression diagnostics\n",
      "...', Wiley, 1980.   N.B. Various transformations are used in the table on\n",
      "pages 244-261 of the latter.\n",
      "\n",
      "The Boston house-price data has been used in many machine learning papers that address regression\n",
      "problems.   \n",
      "     \n",
      "**References**\n",
      "\n",
      "   - Belsley, Kuh & Welsch, 'Regression diagnostics: Identifying Influential Data and Sources of Collinearity', Wiley, 1980. 244-261.\n",
      "   - Quinlan,R. (1993). Combining Instance-Based and Model-Based Learning. In Proceedings on the Tenth International Conference of Machine Learning, 236-243, University of Massachusetts, Amherst. Morgan Kaufmann.\n",
      "   - many more! (see http://archive.ics.uci.edu/ml/datasets/Housing)\n",
      "\n"
     ]
    },
    {
     "data": {
      "text/html": [
       "<div>\n",
       "<style scoped>\n",
       "    .dataframe tbody tr th:only-of-type {\n",
       "        vertical-align: middle;\n",
       "    }\n",
       "\n",
       "    .dataframe tbody tr th {\n",
       "        vertical-align: top;\n",
       "    }\n",
       "\n",
       "    .dataframe thead th {\n",
       "        text-align: right;\n",
       "    }\n",
       "</style>\n",
       "<table border=\"1\" class=\"dataframe\">\n",
       "  <thead>\n",
       "    <tr style=\"text-align: right;\">\n",
       "      <th></th>\n",
       "      <th>crim</th>\n",
       "      <th>zn</th>\n",
       "      <th>indus</th>\n",
       "      <th>chas</th>\n",
       "      <th>nox</th>\n",
       "      <th>rm</th>\n",
       "      <th>age</th>\n",
       "      <th>dis</th>\n",
       "      <th>rad</th>\n",
       "      <th>tax</th>\n",
       "      <th>ptratio</th>\n",
       "      <th>b</th>\n",
       "      <th>lstat</th>\n",
       "      <th>target</th>\n",
       "    </tr>\n",
       "  </thead>\n",
       "  <tbody>\n",
       "    <tr>\n",
       "      <th>0</th>\n",
       "      <td>0.00632</td>\n",
       "      <td>18.0</td>\n",
       "      <td>2.31</td>\n",
       "      <td>0.0</td>\n",
       "      <td>0.538</td>\n",
       "      <td>6.575</td>\n",
       "      <td>65.2</td>\n",
       "      <td>4.0900</td>\n",
       "      <td>1.0</td>\n",
       "      <td>296.0</td>\n",
       "      <td>15.3</td>\n",
       "      <td>396.90</td>\n",
       "      <td>4.98</td>\n",
       "      <td>24.0</td>\n",
       "    </tr>\n",
       "    <tr>\n",
       "      <th>1</th>\n",
       "      <td>0.02731</td>\n",
       "      <td>0.0</td>\n",
       "      <td>7.07</td>\n",
       "      <td>0.0</td>\n",
       "      <td>0.469</td>\n",
       "      <td>6.421</td>\n",
       "      <td>78.9</td>\n",
       "      <td>4.9671</td>\n",
       "      <td>2.0</td>\n",
       "      <td>242.0</td>\n",
       "      <td>17.8</td>\n",
       "      <td>396.90</td>\n",
       "      <td>9.14</td>\n",
       "      <td>21.6</td>\n",
       "    </tr>\n",
       "    <tr>\n",
       "      <th>2</th>\n",
       "      <td>0.02729</td>\n",
       "      <td>0.0</td>\n",
       "      <td>7.07</td>\n",
       "      <td>0.0</td>\n",
       "      <td>0.469</td>\n",
       "      <td>7.185</td>\n",
       "      <td>61.1</td>\n",
       "      <td>4.9671</td>\n",
       "      <td>2.0</td>\n",
       "      <td>242.0</td>\n",
       "      <td>17.8</td>\n",
       "      <td>392.83</td>\n",
       "      <td>4.03</td>\n",
       "      <td>34.7</td>\n",
       "    </tr>\n",
       "    <tr>\n",
       "      <th>3</th>\n",
       "      <td>0.03237</td>\n",
       "      <td>0.0</td>\n",
       "      <td>2.18</td>\n",
       "      <td>0.0</td>\n",
       "      <td>0.458</td>\n",
       "      <td>6.998</td>\n",
       "      <td>45.8</td>\n",
       "      <td>6.0622</td>\n",
       "      <td>3.0</td>\n",
       "      <td>222.0</td>\n",
       "      <td>18.7</td>\n",
       "      <td>394.63</td>\n",
       "      <td>2.94</td>\n",
       "      <td>33.4</td>\n",
       "    </tr>\n",
       "    <tr>\n",
       "      <th>4</th>\n",
       "      <td>0.06905</td>\n",
       "      <td>0.0</td>\n",
       "      <td>2.18</td>\n",
       "      <td>0.0</td>\n",
       "      <td>0.458</td>\n",
       "      <td>7.147</td>\n",
       "      <td>54.2</td>\n",
       "      <td>6.0622</td>\n",
       "      <td>3.0</td>\n",
       "      <td>222.0</td>\n",
       "      <td>18.7</td>\n",
       "      <td>396.90</td>\n",
       "      <td>5.33</td>\n",
       "      <td>36.2</td>\n",
       "    </tr>\n",
       "  </tbody>\n",
       "</table>\n",
       "</div>"
      ],
      "text/plain": [
       "      crim    zn  indus  chas    nox     rm   age     dis  rad    tax  \\\n",
       "0  0.00632  18.0   2.31   0.0  0.538  6.575  65.2  4.0900  1.0  296.0   \n",
       "1  0.02731   0.0   7.07   0.0  0.469  6.421  78.9  4.9671  2.0  242.0   \n",
       "2  0.02729   0.0   7.07   0.0  0.469  7.185  61.1  4.9671  2.0  242.0   \n",
       "3  0.03237   0.0   2.18   0.0  0.458  6.998  45.8  6.0622  3.0  222.0   \n",
       "4  0.06905   0.0   2.18   0.0  0.458  7.147  54.2  6.0622  3.0  222.0   \n",
       "\n",
       "   ptratio       b  lstat  target  \n",
       "0     15.3  396.90   4.98    24.0  \n",
       "1     17.8  396.90   9.14    21.6  \n",
       "2     17.8  392.83   4.03    34.7  \n",
       "3     18.7  394.63   2.94    33.4  \n",
       "4     18.7  396.90   5.33    36.2  "
      ]
     },
     "execution_count": 142,
     "metadata": {},
     "output_type": "execute_result"
    }
   ],
   "source": [
    "## Let's explore housing prices\n",
    "b_data = load_boston()\n",
    "\n",
    "raw = pd.DataFrame(b_data.data,columns=b_data.feature_names)\n",
    "raw['target'] = b_data.target\n",
    "\n",
    "raw.columns = raw.columns.map(lambda x: x.lower())\n",
    "\n",
    "print(b_data.DESCR)\n",
    "raw.head()"
   ]
  },
  {
   "cell_type": "code",
   "execution_count": 159,
   "metadata": {},
   "outputs": [
    {
     "data": {
      "text/plain": [
       "Text(0,0.5,'average rooms per dwelling')"
      ]
     },
     "execution_count": 159,
     "metadata": {},
     "output_type": "execute_result"
    },
    {
     "data": {
      "image/png": "[encoded data removed]",
      "text/plain": [
       "<Figure size 432x288 with 1 Axes>"
      ]
     },
     "metadata": {},
     "output_type": "display_data"
    }
   ],
   "source": [
    "plt.scatter(raw['target'],raw['rm'])\n",
    "plt.xlabel(\"target ($)\")\n",
    "plt.ylabel(\"average rooms per dwelling\")"
   ]
  },
  {
   "cell_type": "code",
   "execution_count": 206,
   "metadata": {},
   "outputs": [],
   "source": [
    "from sklearn.cross_validation import train_test_split\n",
    "\n",
    "X = raw['rm']\n",
    "y = raw['target']\n",
    "\n",
    "X_train, X_test, y_train, y_test = train_test_split(X,y)\n",
    "\n",
    "h = LinearRegression()\n",
    "h.fit(X_train.values.reshape(-1,1),y_train)\n",
    "\n",
    "pred = h.predict(X_test.values.reshape(-1,1))"
   ]
  },
  {
   "cell_type": "code",
   "execution_count": 210,
   "metadata": {},
   "outputs": [
    {
     "data": {
      "text/plain": [
       "[<matplotlib.lines.Line2D at 0x7f3553522278>]"
      ]
     },
     "execution_count": 210,
     "metadata": {},
     "output_type": "execute_result"
    },
    {
     "data": {
      "image/png": "[encoded data removed]",
      "text/plain": [
       "<Figure size 432x288 with 1 Axes>"
      ]
     },
     "metadata": {},
     "output_type": "display_data"
    }
   ],
   "source": [
    "plt.scatter(X_test,y_test)\n",
    "plt.xlim((4,8.5))\n",
    "plt.ylim((0,55))\n",
    "\n",
    "plt.plot(X_test,pred,'r--')"
   ]
  },
  {
   "cell_type": "markdown",
   "metadata": {},
   "source": []
  },
  {
   "cell_type": "markdown",
   "metadata": {},
   "source": [
    "### Regularization\n",
    "\n",
    "We've discussed overfitting, underfitting, bias, and variance and what they mean for our models. Remember, that highly biased models display underfitting, while high variance models display overfitting.\n",
    "\n",
    "<img src=\"https://kevinbinz.files.wordpress.com/2014/08/partitions-underfitting-vs-overfitting-regression-via-polynomial-degree.png\">\n",
    "\n",
    "**Regularization** is a technique which allows us to reduce the variance of our model, and thereby reduce the overfitting displayed by our model."
   ]
  },
  {
   "cell_type": "markdown",
   "metadata": {},
   "source": [
    "Consider the case where we have a significant number of features. We quickly realize that approach the problem geometrically (i.e. looking at lines and curves on our data) is neither scalable nor tractable for these higher dimensional cases.\n",
    "\n",
    "We have two primary options to reduce overfitting:\n",
    "\n",
    "1. reduce the number of features used by either manually selecting features or using a model selecting algorithm\n",
    "\n",
    "2. use regularization, which keeps our desired features by reduced the values of the parameters. This allows us to keep many features, each of which slightly contributes to our predictor."
   ]
  },
  {
   "cell_type": "markdown",
   "metadata": {},
   "source": [
    "Intuitively, regularization adds large parameter penalities to our cost function so that we may minimize their contributions:\n",
    "\n",
    "$$\n",
    "    \\min_{\\theta} L(\\theta) = \\frac{1}{n}\\sum_{i=1}^{n}\\big(h(x_i) - y_i\\big)^2 + \\lambda \\sum_{i=1}^{n} \\theta_j^2\n",
    "$$\n",
    "\n",
    "This new cost function allows us to penalize all of our parameters."
   ]
  },
  {
   "cell_type": "markdown",
   "metadata": {},
   "source": [
    "### Homework\n",
    "\n",
    "We will explore regularization in our models next week. Please read the following to prepare for class on Thursday. Part of your homework will be to describe the following image of L1/L2 regularization (aka. lasso and ridge regression)\n",
    "\n",
    "https://towardsdatascience.com/regularization-in-machine-learning-76441ddcf99a\n",
    "\n",
    "<img src=\"https://qph.fs.quoracdn.net/main-qimg-1d86ff73fc5bb80c32ee5211e98c8610-c\">"
   ]
  }
 ],
 "metadata": {
  "kernelspec": {
   "display_name": "Python 3",
   "language": "python",
   "name": "python3"
  },
  "language_info": {
   "codemirror_mode": {
    "name": "ipython",
    "version": 3
   },
   "file_extension": ".py",
   "mimetype": "text/x-python",
   "name": "python",
   "nbconvert_exporter": "python",
   "pygments_lexer": "ipython3",
   "version": "3.6.5"
  }
 },
 "nbformat": 4,
 "nbformat_minor": 2
}
