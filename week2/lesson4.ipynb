{
 "cells": [
  {
   "cell_type": "markdown",
   "metadata": {},
   "source": [
    "# Lesson 4\n",
    "\n",
    "We will be exploring a famous data set, known as the Titanic data set. Using this data, we will attempt to predict survival of a Titanic passenger.\n",
    "\n",
    "**Goal**\n",
    "\n",
    "After this lesson, you should:\n",
    "1. Know how to setup a working python environment on your computer using anaconda\n",
    "2. Understand the following concepts:\n",
    "    - random forests\n",
    "    - decision trees\n",
    "   \n",
    "-----\n",
    "\n",
    "Resources:\n",
    "- https://www.kaggle.com/c/titanic\n",
    "\n",
    "Data set for today's lecture:\n",
    "- http://web.stanford.edu/class/archive/cs/cs109/cs109.1166/stuff/titanic.csv"
   ]
  },
  {
   "cell_type": "code",
   "execution_count": 41,
   "metadata": {},
   "outputs": [],
   "source": [
    "import numpy as np\n",
    "import pandas as pd\n",
    "import sklearn as skl\n",
    "import statsmodels as sm\n",
    "import matplotlib.pyplot as plt\n",
    "import seaborn as sea\n",
    "\n",
    "# control the plotsize\n",
    "plt.rcParams['figure.figsize'] = [10,5]"
   ]
  },
  {
   "cell_type": "markdown",
   "metadata": {},
   "source": [
    "# CART Algorithm\n",
    "\n",
    "> **CART**: Classification and Regression Trees\n",
    "\n",
    "A _very_ robust methodology to help make both classification and regression predictions uses trees. These algorithms are the closest thing you will get which are just \"ready to go\", and require minimal tuning/engineering.\n",
    "\n",
    "Intuitively, we call these data structures, **Decision Trees**.\n",
    "\n",
    "<img src=\"https://cdn-images-1.medium.com/max/569/0*Yclq0kqMAwCQcIV_.jpg\" width=\"350\">\n",
    "\n"
   ]
  },
  {
   "cell_type": "markdown",
   "metadata": {},
   "source": [
    "Decision trees are great because they:\n",
    "\n",
    "- implicitly perform feature selection\n",
    "- handle _both_ numerical and categorical data\n",
    "- require almost no real engineering effort\n",
    "- don't have performance characteristics which are affected by nonlinear relationships"
   ]
  },
  {
   "cell_type": "markdown",
   "metadata": {},
   "source": [
    "### How do we grow a decision tree?\n",
    "\n",
    "The size of the tree depends on:\n",
    "- which features it chooses\n",
    "- what conditions are used for \"splitting\"\n",
    "- what conditions are used for \"stopping\"\n",
    "\n",
    "As the tree grows, it becomes prone to _overfitting_. We don't want an arbitrarily large tree, so we need to reduce its size somehow.\n",
    "\n",
    "> Consider an example where we train a Decision Tree on 3 features. This means there will be 3 candidate splits. In this case we adopt the following process:\n",
    "\n",
    "1. calculate the _accuracy_ of a split using some cost function\n",
    "2. choose the split which costs the least\n",
    "3. recurse into the sub-groups and perform steps 1 and 2"
   ]
  },
  {
   "cell_type": "markdown",
   "metadata": {},
   "source": [
    "### Cost Functions\n",
    "We can use decision trees in regression and classification analysis. For now, we will focus on a popular and robust cost function for classification models.\n",
    "\n",
    "**Gini Cost Function**\n",
    "\n",
    "> Intuition: How mixed are the classes on which we want to split?\n",
    "\n",
    "For each child node, we calculate: $G(t) = 1 - \\sum{\\text{prop}^2}$, where _prop_ is the proportion of classes in each group. In other words, we just want to minimize the impurity of a split by grouping together as many similar classes as possible.\n",
    "\n",
    "<img src=\"https://dimensionless.in/wp-content/uploads/RandomForest_blog_files/figure-html/gini.png\" width=\"1000\">\n"
   ]
  },
  {
   "cell_type": "markdown",
   "metadata": {},
   "source": [
    "### When do we stop splitting?\n",
    "\n",
    "If we have too many features, we will end up with a very large tree, and this leads to overfitting.\n",
    "\n",
    "> lots of features $\\rightarrow$ large tree $\\rightarrow$ overfitting\n",
    "\n",
    "We define our stopping points in two main ways:\n",
    "\n",
    "1. set a minimum number of training inputs for each leaf\n",
    "2. set a maximum depth to traverse the tree\n",
    "\n",
    "<img src=\"https://www.includehelp.com/data-structure-tutorial/images/Image5.gif\" width=\"500\">"
   ]
  },
  {
   "cell_type": "markdown",
   "metadata": {},
   "source": [
    "We can further prevent overfiting by **pruning** the tree. This just means that we remove branches that make use of features that have low importance. We can do this my either:\n",
    "\n",
    "1. reducing complexity, which increases the predictive power by reducing any overfitting\n",
    "2. using more complicated methods, such as _reduced error pruning_ or _weakest link pruning_. These methods are beyond our scope, but feel free to look them up."
   ]
  },
  {
   "cell_type": "markdown",
   "metadata": {},
   "source": [
    "## Random Forests\n",
    "\n",
    "Random forests are a relatively black box construct which gives _fantastic_ results for _minimal effort_. Of all the standard algorithms we will learn, this is the one that most likely \"just works.\"\n",
    "\n",
    "At its core, the Random Forests algorithm builds many Decision Trees and then merges them together by \"voting\" on the best ones. Compared to Decision Trees, Random Forests is both (1) more accurate and (2) more stable.\n",
    "\n",
    "<img src=\"https://i0.wp.com/analyticsdefined.com/wp-content/uploads/2018/01/random-forests.png?fit=1965%2C942&ssl=1\" width=\"1000\">"
   ]
  },
  {
   "cell_type": "markdown",
   "metadata": {},
   "source": [
    "| Decision Trees |**vs**| Random Forests |\n",
    "|----------------|----|----------------|\n",
    "| put features into DT $\\rightarrow$ predict rules |**vs**| randomly select features $\\rightarrow$ build several DTs $\\rightarrow$ avg results |\n",
    "| large DT $\\rightarrow$ overfitting | **vs** | much harder to overfit b/c randomly selects features, builds subsets, and combine |"
   ]
  },
  {
   "cell_type": "markdown",
   "metadata": {},
   "source": [
    "#### Important Hyperparameters\n",
    "\n",
    "**hyperparameters** are a few values which control the overall performance of the algorithm. Adjusting these parameters will drastically effect how well and quickly the model \"learns.\"\n",
    "\n",
    "You should be aware of the following hyperparameters when using Random Forests:\n",
    "\n",
    "##### Predictive Power\n",
    "1. **n_estimators**: the number of decision trees to build before averaging\n",
    "1. **max_features**: the maximum features in an individual decision tree\n",
    "1. **min_samples_split**: the minimum number of samples required to split at an internal node\n",
    "1. **min_samples_leaf**: the minimum samples required to be at a leaf node\n",
    "\n",
    "##### Speed\n",
    "1. **n_jobs**: how many processors are available to your model (where $-1$ means there is no limit)\n",
    "1. **random_state**: the seed used by the random number generator. The same seed will provide the same results given the same parameters and training data.\n",
    "1. **oob_score**: a special score that serves as cross validation for random forests. It takes advantage of a property in random forests that reserves "
   ]
  },
  {
   "cell_type": "code",
   "execution_count": 14,
   "metadata": {},
   "outputs": [],
   "source": [
    "import pandas as pd\n",
    "import matplotlib.pyplot as plt"
   ]
  },
  {
   "cell_type": "code",
   "execution_count": 8,
   "metadata": {},
   "outputs": [
    {
     "data": {
      "text/html": [
       "<div>\n",
       "<style scoped>\n",
       "    .dataframe tbody tr th:only-of-type {\n",
       "        vertical-align: middle;\n",
       "    }\n",
       "\n",
       "    .dataframe tbody tr th {\n",
       "        vertical-align: top;\n",
       "    }\n",
       "\n",
       "    .dataframe thead th {\n",
       "        text-align: right;\n",
       "    }\n",
       "</style>\n",
       "<table border=\"1\" class=\"dataframe\">\n",
       "  <thead>\n",
       "    <tr style=\"text-align: right;\">\n",
       "      <th></th>\n",
       "      <th>Survived</th>\n",
       "      <th>Pclass</th>\n",
       "      <th>Name</th>\n",
       "      <th>Sex</th>\n",
       "      <th>Age</th>\n",
       "      <th>Siblings/Spouses Aboard</th>\n",
       "      <th>Parents/Children Aboard</th>\n",
       "      <th>Fare</th>\n",
       "    </tr>\n",
       "  </thead>\n",
       "  <tbody>\n",
       "    <tr>\n",
       "      <th>0</th>\n",
       "      <td>0</td>\n",
       "      <td>3</td>\n",
       "      <td>Mr. Owen Harris Braund</td>\n",
       "      <td>male</td>\n",
       "      <td>22.0</td>\n",
       "      <td>1</td>\n",
       "      <td>0</td>\n",
       "      <td>7.2500</td>\n",
       "    </tr>\n",
       "    <tr>\n",
       "      <th>1</th>\n",
       "      <td>1</td>\n",
       "      <td>1</td>\n",
       "      <td>Mrs. John Bradley (Florence Briggs Thayer) Cum...</td>\n",
       "      <td>female</td>\n",
       "      <td>38.0</td>\n",
       "      <td>1</td>\n",
       "      <td>0</td>\n",
       "      <td>71.2833</td>\n",
       "    </tr>\n",
       "    <tr>\n",
       "      <th>2</th>\n",
       "      <td>1</td>\n",
       "      <td>3</td>\n",
       "      <td>Miss. Laina Heikkinen</td>\n",
       "      <td>female</td>\n",
       "      <td>26.0</td>\n",
       "      <td>0</td>\n",
       "      <td>0</td>\n",
       "      <td>7.9250</td>\n",
       "    </tr>\n",
       "    <tr>\n",
       "      <th>3</th>\n",
       "      <td>1</td>\n",
       "      <td>1</td>\n",
       "      <td>Mrs. Jacques Heath (Lily May Peel) Futrelle</td>\n",
       "      <td>female</td>\n",
       "      <td>35.0</td>\n",
       "      <td>1</td>\n",
       "      <td>0</td>\n",
       "      <td>53.1000</td>\n",
       "    </tr>\n",
       "    <tr>\n",
       "      <th>4</th>\n",
       "      <td>0</td>\n",
       "      <td>3</td>\n",
       "      <td>Mr. William Henry Allen</td>\n",
       "      <td>male</td>\n",
       "      <td>35.0</td>\n",
       "      <td>0</td>\n",
       "      <td>0</td>\n",
       "      <td>8.0500</td>\n",
       "    </tr>\n",
       "  </tbody>\n",
       "</table>\n",
       "</div>"
      ],
      "text/plain": [
       "   Survived  Pclass                                               Name  \\\n",
       "0         0       3                             Mr. Owen Harris Braund   \n",
       "1         1       1  Mrs. John Bradley (Florence Briggs Thayer) Cum...   \n",
       "2         1       3                              Miss. Laina Heikkinen   \n",
       "3         1       1        Mrs. Jacques Heath (Lily May Peel) Futrelle   \n",
       "4         0       3                            Mr. William Henry Allen   \n",
       "\n",
       "      Sex   Age  Siblings/Spouses Aboard  Parents/Children Aboard     Fare  \n",
       "0    male  22.0                        1                        0   7.2500  \n",
       "1  female  38.0                        1                        0  71.2833  \n",
       "2  female  26.0                        0                        0   7.9250  \n",
       "3  female  35.0                        1                        0  53.1000  \n",
       "4    male  35.0                        0                        0   8.0500  "
      ]
     },
     "execution_count": 8,
     "metadata": {},
     "output_type": "execute_result"
    }
   ],
   "source": [
    "raw = pd.read_csv('./titanic.csv')\n",
    "raw.head()"
   ]
  },
  {
   "cell_type": "code",
   "execution_count": 9,
   "metadata": {},
   "outputs": [
    {
     "data": {
      "text/html": [
       "<div>\n",
       "<style scoped>\n",
       "    .dataframe tbody tr th:only-of-type {\n",
       "        vertical-align: middle;\n",
       "    }\n",
       "\n",
       "    .dataframe tbody tr th {\n",
       "        vertical-align: top;\n",
       "    }\n",
       "\n",
       "    .dataframe thead th {\n",
       "        text-align: right;\n",
       "    }\n",
       "</style>\n",
       "<table border=\"1\" class=\"dataframe\">\n",
       "  <thead>\n",
       "    <tr style=\"text-align: right;\">\n",
       "      <th></th>\n",
       "      <th>count</th>\n",
       "      <th>mean</th>\n",
       "      <th>std</th>\n",
       "      <th>min</th>\n",
       "      <th>25%</th>\n",
       "      <th>50%</th>\n",
       "      <th>75%</th>\n",
       "      <th>max</th>\n",
       "    </tr>\n",
       "  </thead>\n",
       "  <tbody>\n",
       "    <tr>\n",
       "      <th>Survived</th>\n",
       "      <td>887.0</td>\n",
       "      <td>0.385569</td>\n",
       "      <td>0.487004</td>\n",
       "      <td>0.00</td>\n",
       "      <td>0.000</td>\n",
       "      <td>0.0000</td>\n",
       "      <td>1.0000</td>\n",
       "      <td>1.0000</td>\n",
       "    </tr>\n",
       "    <tr>\n",
       "      <th>Pclass</th>\n",
       "      <td>887.0</td>\n",
       "      <td>2.305524</td>\n",
       "      <td>0.836662</td>\n",
       "      <td>1.00</td>\n",
       "      <td>2.000</td>\n",
       "      <td>3.0000</td>\n",
       "      <td>3.0000</td>\n",
       "      <td>3.0000</td>\n",
       "    </tr>\n",
       "    <tr>\n",
       "      <th>Age</th>\n",
       "      <td>887.0</td>\n",
       "      <td>29.471443</td>\n",
       "      <td>14.121908</td>\n",
       "      <td>0.42</td>\n",
       "      <td>20.250</td>\n",
       "      <td>28.0000</td>\n",
       "      <td>38.0000</td>\n",
       "      <td>80.0000</td>\n",
       "    </tr>\n",
       "    <tr>\n",
       "      <th>Siblings/Spouses Aboard</th>\n",
       "      <td>887.0</td>\n",
       "      <td>0.525366</td>\n",
       "      <td>1.104669</td>\n",
       "      <td>0.00</td>\n",
       "      <td>0.000</td>\n",
       "      <td>0.0000</td>\n",
       "      <td>1.0000</td>\n",
       "      <td>8.0000</td>\n",
       "    </tr>\n",
       "    <tr>\n",
       "      <th>Parents/Children Aboard</th>\n",
       "      <td>887.0</td>\n",
       "      <td>0.383315</td>\n",
       "      <td>0.807466</td>\n",
       "      <td>0.00</td>\n",
       "      <td>0.000</td>\n",
       "      <td>0.0000</td>\n",
       "      <td>0.0000</td>\n",
       "      <td>6.0000</td>\n",
       "    </tr>\n",
       "    <tr>\n",
       "      <th>Fare</th>\n",
       "      <td>887.0</td>\n",
       "      <td>32.305420</td>\n",
       "      <td>49.782040</td>\n",
       "      <td>0.00</td>\n",
       "      <td>7.925</td>\n",
       "      <td>14.4542</td>\n",
       "      <td>31.1375</td>\n",
       "      <td>512.3292</td>\n",
       "    </tr>\n",
       "  </tbody>\n",
       "</table>\n",
       "</div>"
      ],
      "text/plain": [
       "                         count       mean        std   min     25%      50%  \\\n",
       "Survived                 887.0   0.385569   0.487004  0.00   0.000   0.0000   \n",
       "Pclass                   887.0   2.305524   0.836662  1.00   2.000   3.0000   \n",
       "Age                      887.0  29.471443  14.121908  0.42  20.250  28.0000   \n",
       "Siblings/Spouses Aboard  887.0   0.525366   1.104669  0.00   0.000   0.0000   \n",
       "Parents/Children Aboard  887.0   0.383315   0.807466  0.00   0.000   0.0000   \n",
       "Fare                     887.0  32.305420  49.782040  0.00   7.925  14.4542   \n",
       "\n",
       "                             75%       max  \n",
       "Survived                  1.0000    1.0000  \n",
       "Pclass                    3.0000    3.0000  \n",
       "Age                      38.0000   80.0000  \n",
       "Siblings/Spouses Aboard   1.0000    8.0000  \n",
       "Parents/Children Aboard   0.0000    6.0000  \n",
       "Fare                     31.1375  512.3292  "
      ]
     },
     "execution_count": 9,
     "metadata": {},
     "output_type": "execute_result"
    }
   ],
   "source": [
    "raw.describe().T"
   ]
  },
  {
   "cell_type": "code",
   "execution_count": 45,
   "metadata": {},
   "outputs": [
    {
     "data": {
      "image/png": "[encoded data removed]",
      "text/plain": [
       "<Figure size 720x360 with 1 Axes>"
      ]
     },
     "metadata": {},
     "output_type": "display_data"
    }
   ],
   "source": [
    "# sea.countplot\n",
    "pd.crosstab(raw['Age'], raw['Survived']).plot(kind='hist')\n",
    "plt.rcParams['figure.figsize'] =  [10, 6]"
   ]
  },
  {
   "cell_type": "code",
   "execution_count": 20,
   "metadata": {},
   "outputs": [],
   "source": [
    "data = pd.get_dummies(raw, columns=['Sex', 'Pclass'])\n",
    "data = data.drop(columns=['Name'], axis=1)"
   ]
  },
  {
   "cell_type": "code",
   "execution_count": 23,
   "metadata": {},
   "outputs": [],
   "source": [
    "X = data.drop('Survived', axis=1)\n",
    "y = data['Survived']"
   ]
  },
  {
   "cell_type": "code",
   "execution_count": 24,
   "metadata": {},
   "outputs": [],
   "source": [
    "from sklearn.model_selection import train_test_split\n",
    "X_train, X_test, y_train, y_test = train_test_split(X, y, test_size=0.3, random_state=101)"
   ]
  },
  {
   "cell_type": "code",
   "execution_count": 32,
   "metadata": {},
   "outputs": [],
   "source": [
    "from sklearn.ensemble import RandomForestClassifier\n",
    "forest = RandomForestClassifier(oob_score=True)"
   ]
  },
  {
   "cell_type": "code",
   "execution_count": 33,
   "metadata": {},
   "outputs": [
    {
     "name": "stderr",
     "output_type": "stream",
     "text": [
      "/home/dks/anaconda3/envs/py3/lib/python3.6/site-packages/sklearn/ensemble/forest.py:453: UserWarning: Some inputs do not have OOB scores. This probably means too few trees were used to compute any reliable oob estimates.\n",
      "  warn(\"Some inputs do not have OOB scores. \"\n",
      "/home/dks/anaconda3/envs/py3/lib/python3.6/site-packages/sklearn/ensemble/forest.py:458: RuntimeWarning: invalid value encountered in true_divide\n",
      "  predictions[k].sum(axis=1)[:, np.newaxis])\n"
     ]
    },
    {
     "data": {
      "text/plain": [
       "RandomForestClassifier(bootstrap=True, class_weight=None, criterion='gini',\n",
       "            max_depth=None, max_features='auto', max_leaf_nodes=None,\n",
       "            min_impurity_decrease=0.0, min_impurity_split=None,\n",
       "            min_samples_leaf=1, min_samples_split=2,\n",
       "            min_weight_fraction_leaf=0.0, n_estimators=10, n_jobs=1,\n",
       "            oob_score=True, random_state=None, verbose=0, warm_start=False)"
      ]
     },
     "execution_count": 33,
     "metadata": {},
     "output_type": "execute_result"
    }
   ],
   "source": [
    "forest.fit(X_train, y_train)"
   ]
  },
  {
   "cell_type": "code",
   "execution_count": 35,
   "metadata": {},
   "outputs": [
    {
     "name": "stdout",
     "output_type": "stream",
     "text": [
      "Accuracy of rf 0.81\n"
     ]
    }
   ],
   "source": [
    "print('Accuracy of rf {:.2f}'.format(forest.score(X_test, y_test)))"
   ]
  },
  {
   "cell_type": "code",
   "execution_count": 37,
   "metadata": {},
   "outputs": [
    {
     "data": {
      "text/plain": [
       "0.782258064516129"
      ]
     },
     "execution_count": 37,
     "metadata": {},
     "output_type": "execute_result"
    }
   ],
   "source": [
    "forest.oob_score_"
   ]
  },
  {
   "cell_type": "code",
   "execution_count": 38,
   "metadata": {},
   "outputs": [],
   "source": [
    "y_scores = forest.predict_proba(X_train)\n",
    "y_scores = y_scores[:, 1]"
   ]
  },
  {
   "cell_type": "code",
   "execution_count": 39,
   "metadata": {},
   "outputs": [],
   "source": [
    "from sklearn.metrics import roc_curve\n",
    "fpr, tpr, ths = roc_curve(y_train, y_scores)"
   ]
  },
  {
   "cell_type": "code",
   "execution_count": 46,
   "metadata": {},
   "outputs": [
    {
     "data": {
      "text/plain": [
       "[<matplotlib.lines.Line2D at 0x7fe5777bfc88>]"
      ]
     },
     "execution_count": 46,
     "metadata": {},
     "output_type": "execute_result"
    },
    {
     "data": {
      "image/png": "[encoded data removed]",
      "text/plain": [
       "<Figure size 720x432 with 1 Axes>"
      ]
     },
     "metadata": {},
     "output_type": "display_data"
    }
   ],
   "source": [
    "plt.plot(fpr, tpr)\n",
    "plt.plot([0, 1], [0, 1], 'r--')"
   ]
  },
  {
   "cell_type": "code",
   "execution_count": null,
   "metadata": {},
   "outputs": [],
   "source": []
  }
 ],
 "metadata": {
  "kernelspec": {
   "display_name": "Python 3",
   "language": "python",
   "name": "python3"
  },
  "language_info": {
   "codemirror_mode": {
    "name": "ipython",
    "version": 3
   },
   "file_extension": ".py",
   "mimetype": "text/x-python",
   "name": "python",
   "nbconvert_exporter": "python",
   "pygments_lexer": "ipython3",
   "version": "3.6.5"
  }
 },
 "nbformat": 4,
 "nbformat_minor": 2
}
